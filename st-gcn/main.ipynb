{
 "cells": [
  {
   "cell_type": "code",
   "execution_count": 1,
   "metadata": {},
   "outputs": [],
   "source": [
    "%load_ext autoreload\n",
    "%autoreload 2\n",
    "import sys\n",
    "# adding ./model to the system path\n",
    "sys.path.insert(0, './model')\n",
    "from importlib import reload"
   ]
  },
  {
   "cell_type": "code",
   "execution_count": 2,
   "metadata": {},
   "outputs": [],
   "source": [
    "import torch\n",
    "import torch.nn as nn\n",
    "import numpy as np\n",
    "import matplotlib.pyplot as plt\n",
    "\n",
    "from model.stgcn import stgcn\n",
    "from model.st_graph import get_distance_adjacency\n",
    "from torchsummary import summary\n",
    "from torch.utils.data import Dataset, DataLoader\n",
    "from sklearn.model_selection import train_test_split\n",
    "from tqdm import tqdm"
   ]
  },
  {
   "cell_type": "markdown",
   "metadata": {},
   "source": [
    "# Load and preprocess the dataset"
   ]
  },
  {
   "cell_type": "code",
   "execution_count": 3,
   "metadata": {},
   "outputs": [],
   "source": [
    "dataset = np.load('../../datasets/NTU-RGB/ntu_fall.npy', allow_pickle=True).item()"
   ]
  },
  {
   "cell_type": "code",
   "execution_count": 4,
   "metadata": {},
   "outputs": [],
   "source": [
    "# dict_keys(['nbodys', 'njoints', 'nframes', 'joints'])\n",
    "daily_raw = dataset['daily']\n",
    "fall_raw = dataset['fall']"
   ]
  },
  {
   "cell_type": "code",
   "execution_count": 5,
   "metadata": {},
   "outputs": [
    {
     "name": "stdout",
     "output_type": "stream",
     "text": [
      "(516,)\n",
      "(460,)\n"
     ]
    }
   ],
   "source": [
    "# select data that has at least 60 frames and at most 85 frames\n",
    "\n",
    "nframes = []\n",
    "for data in daily_raw:\n",
    "    nframes.append(data['nframes'])\n",
    "nframes = np.array(nframes)\n",
    "indices = np.where((nframes >= 60) & (nframes <= 85))\n",
    "daily = np.array(daily_raw)[indices]\n",
    "\n",
    "nframes = []\n",
    "for data in fall_raw:\n",
    "    nframes.append(data['nframes'])\n",
    "nframes = np.array(nframes)\n",
    "indices = np.where((nframes >= 60) & (nframes <= 85))\n",
    "fall = np.array(fall_raw)[indices]\n",
    "\n",
    "print(fall.shape)\n",
    "print(daily.shape)"
   ]
  },
  {
   "cell_type": "code",
   "execution_count": 6,
   "metadata": {},
   "outputs": [
    {
     "data": {
      "image/png": "[encoded data removed]",
      "text/plain": [
       "<Figure size 640x480 with 1 Axes>"
      ]
     },
     "metadata": {},
     "output_type": "display_data"
    },
    {
     "name": "stdout",
     "output_type": "stream",
     "text": [
      "1162.957\n"
     ]
    }
   ],
   "source": [
    "count = 0\n",
    "for data in fall:\n",
    "    if (data['joints'][:, :, 1] >= 1080).any():\n",
    "        edges = [(1, 2), (2, 21), (3, 21), (4, 3), (5, 21), (6, 5), (7, 6),\n",
    "                    (8, 7), (9, 21), (10, 9), (11, 10), (12, 11), (13, 1),\n",
    "                    (14, 13), (15, 14), (16, 15), (17, 1), (18, 17), (19, 18),\n",
    "                    (20, 19), (22, 23), (23, 8), (24, 25), (25, 12)]\n",
    "\n",
    "        joints = data['joints']\n",
    "        frame = -1\n",
    "        plt.scatter(joints[frame][:, 0], joints[frame][:, 1])\n",
    "        plt.xlim(0, 1920)\n",
    "        plt.ylim(0, 1080)\n",
    "        for joint1, joint2 in edges:\n",
    "            x_values = [joints[frame][joint1-1][0], joints[frame][joint2-1][0]]\n",
    "            y_values = [joints[frame][joint1-1][1], joints[frame][joint2-1][1]]\n",
    "            plt.plot(x_values, y_values, 'r-')  # 'r-' for red lines\n",
    "        plt.gca().invert_yaxis()\n",
    "        plt.show()\n",
    "        print(np.max(data['joints'][:, :, 1]))\n",
    "        break"
   ]
  },
  {
   "cell_type": "code",
   "execution_count": 7,
   "metadata": {},
   "outputs": [],
   "source": [
    "# pad the data to length of 85 by repeating previous frames\n",
    "\n",
    "fall_pad = []\n",
    "daily_pad = []\n",
    "\n",
    "for i, data in enumerate(fall):\n",
    "    if np.isnan(data['joints']).any():\n",
    "        continue\n",
    "    \n",
    "    if data['nframes'] == 85:\n",
    "        fall_pad.append(data['joints'])\n",
    "    else:\n",
    "        num_pads = 85 - data['nframes']\n",
    "        fall_pad.append(np.concatenate((data['joints'], data['joints'][:num_pads]), axis=0))\n",
    "\n",
    "for i, data in enumerate(daily):\n",
    "    if np.isnan(data['joints']).any():\n",
    "        continue\n",
    "    \n",
    "    if data['nframes'] == 85:\n",
    "        daily_pad.append(data['joints'])\n",
    "    else:\n",
    "        num_pads = 85 - data['nframes']\n",
    "        daily_pad.append(np.concatenate((data['joints'], data['joints'][:num_pads]), axis=0))\n",
    "        \n",
    "fall_pad = np.array(fall_pad)\n",
    "daily_pad = np.array(daily_pad)"
   ]
  },
  {
   "cell_type": "code",
   "execution_count": 8,
   "metadata": {},
   "outputs": [
    {
     "name": "stdout",
     "output_type": "stream",
     "text": [
      "(968, 2, 85, 25) (968,)\n"
     ]
    }
   ],
   "source": [
    "# normalize the data using the max values in the dataset\n",
    "# the original coordinates is stored as (x, y)\n",
    "\n",
    "X = np.vstack((daily_pad, fall_pad)).astype(np.float32)\n",
    "y = np.concatenate((np.zeros(len(daily_pad)), np.ones(len(fall_pad))))\n",
    "\n",
    "max_x = np.max(X[:, :, :, 0])\n",
    "max_y = np.max(X[:, :, :, 1])\n",
    "\n",
    "X[:, :, :, 0] /= max_x\n",
    "X[:, :, :, 1] /= max_y\n",
    "X = np.transpose(X, (0, 3, 1, 2))\n",
    "print(X.shape, y.shape)"
   ]
  },
  {
   "cell_type": "code",
   "execution_count": 9,
   "metadata": {},
   "outputs": [],
   "source": [
    "edges = [(1, 2), (2, 21), (3, 21), (4, 3), (5, 21), (6, 5), (7, 6),\n",
    "                    (8, 7), (9, 21), (10, 9), (11, 10), (12, 11), (13, 1),\n",
    "                    (14, 13), (15, 14), (16, 15), (17, 1), (18, 17), (19, 18),\n",
    "                    (20, 19), (22, 23), (23, 8), (24, 25), (25, 12)]\n",
    "num_node = 25\n",
    "\n",
    "A = get_distance_adjacency(np.array(edges) - 1, num_node)"
   ]
  },
  {
   "cell_type": "code",
   "execution_count": 10,
   "metadata": {},
   "outputs": [
    {
     "data": {
      "text/plain": [
       "device(type='cuda')"
      ]
     },
     "execution_count": 10,
     "metadata": {},
     "output_type": "execute_result"
    }
   ],
   "source": [
    "device = torch.device(\"cuda\" if torch.cuda.is_available() else \"cpu\")\n",
    "device"
   ]
  },
  {
   "cell_type": "code",
   "execution_count": 11,
   "metadata": {},
   "outputs": [],
   "source": [
    "class FallDataset(Dataset):\n",
    "    def __init__(self, X, y):\n",
    "        assert X.shape[0] == y.shape[0]\n",
    "        self.X = X\n",
    "        self.y = y\n",
    "\n",
    "    def __len__(self):\n",
    "        return len(self.y)\n",
    "\n",
    "    def __getitem__(self, idx):\n",
    "        return self.X[idx], self.y[idx]\n",
    "\n",
    "# def evaluate(model, loader, print_acc=False):\n",
    "#     model.eval()\n",
    "#     loss_func = nn.CrossEntropyLoss()\n",
    "#     acc, loss = 0.0, 0.0\n",
    "#     for X_batch, y_batch in loader:\n",
    "#         X_batch = X_batch.to(device)\n",
    "#         y_batch = y_batch.type(torch.LongTensor).to(device)\n",
    "#         with torch.no_grad():\n",
    "#             batch_importance = y_batch.shape[0] / len(loader.dataset)\n",
    "#             y_pred = model(X_batch)\n",
    "#             batch_loss = loss_func(y_pred, y_batch)\n",
    "#             batch_acc = torch.sum(torch.argmax(y_pred, axis=-1) == y_batch) / y_batch.shape[0]\n",
    "#             acc += batch_acc.detach().cpu().item() * batch_importance\n",
    "#             loss += batch_loss.detach().cpu().item() * batch_importance\n",
    "#     if print_acc:\n",
    "#         print(f\"Accuracy: {acc:.3f}\")\n",
    "#     return loss, acc\n",
    "\n",
    "# def evaluate(model, loader, print_acc=False):\n",
    "#     model.eval()\n",
    "#     loss_func = nn.CrossEntropyLoss()\n",
    "#     acc, loss = 0.0, 0.0\n",
    "#     all_X, all_y = [], []\n",
    "    \n",
    "#     # Collect all batches from the loader\n",
    "#     for X_batch, y_batch in loader:\n",
    "#         all_X.append(X_batch)\n",
    "#         all_y.append(y_batch)\n",
    "    \n",
    "#     # Concatenate all batches along the batch dimension\n",
    "#     all_X = torch.cat(all_X, dim=0).to(device)\n",
    "#     all_y = torch.cat(all_y, dim=0).type(torch.LongTensor).to(device)\n",
    "    \n",
    "#     with torch.no_grad():\n",
    "#         y_pred = model(all_X)\n",
    "#         loss = loss_func(y_pred, all_y).item()\n",
    "#         acc = (torch.sum(torch.argmax(y_pred, dim=-1) == all_y).item()) / all_y.size(0)\n",
    "\n",
    "#     if print_acc:\n",
    "#         print(f\"Accuracy: {acc:.3f}\")\n",
    "\n",
    "#     return loss, acc\n",
    "\n",
    "def evaluate(model, loader, print_acc=False):\n",
    "    model.eval()\n",
    "    loss_func = nn.CrossEntropyLoss()\n",
    "    acc, loss = 0.0, 0.0\n",
    "    for X_batch, y_batch in loader:\n",
    "        X_batch = X_batch.to(device)\n",
    "        y_batch = y_batch.type(torch.LongTensor).to(device)\n",
    "        with torch.no_grad():\n",
    "            y_pred = model(X_batch)\n",
    "            loss += loss_func(y_pred, y_batch).detach().cpu().item()\n",
    "            acc += torch.sum(torch.argmax(y_pred, axis=-1) == y_batch).detach().cpu().item()\n",
    "            \n",
    "    loss /= len(loader.dataset)\n",
    "    acc /= len(loader.dataset)\n",
    "    return loss, acc"
   ]
  },
  {
   "cell_type": "code",
   "execution_count": 12,
   "metadata": {},
   "outputs": [],
   "source": [
    "X_train, X_valid, y_train, y_valid = train_test_split(X, y, test_size=0.2, random_state=217)\n",
    "training_set = FallDataset(X_train, y_train)\n",
    "validation_set = FallDataset(X_valid, y_valid)"
   ]
  },
  {
   "cell_type": "code",
   "execution_count": 49,
   "metadata": {},
   "outputs": [
    {
     "data": {
      "text/plain": [
       "stgcn(\n",
       "  (stgcn_in): Sequential(\n",
       "    (0): unit_sgcn(\n",
       "      (conv_nets): ModuleList(\n",
       "        (0-1): 2 x Conv2d(2, 64, kernel_size=(1, 1), stride=(1, 1))\n",
       "      )\n",
       "      (bn): BatchNorm2d(64, eps=1e-05, momentum=0.1, affine=True, track_running_stats=True)\n",
       "      (non_linearity): ReLU()\n",
       "    )\n",
       "    (1): unit_tgcn(\n",
       "      (conv_net): Conv2d(64, 64, kernel_size=(9, 1), stride=(1, 1), padding=(4, 0))\n",
       "      (bn): BatchNorm2d(64, eps=1e-05, momentum=0.1, affine=True, track_running_stats=True)\n",
       "      (non_linearity): ReLU()\n",
       "    )\n",
       "  )\n",
       "  (layers): ModuleList(\n",
       "    (0-2): 3 x stgcn_unit(\n",
       "      (sgcn): unit_sgcn(\n",
       "        (conv_nets): ModuleList(\n",
       "          (0-1): 2 x Conv2d(64, 64, kernel_size=(1, 1), stride=(1, 1))\n",
       "        )\n",
       "        (bn): BatchNorm2d(64, eps=1e-05, momentum=0.1, affine=True, track_running_stats=True)\n",
       "        (non_linearity): ReLU()\n",
       "      )\n",
       "      (tgcn): unit_tgcn(\n",
       "        (conv_net): Conv2d(64, 64, kernel_size=(9, 1), stride=(1, 1), padding=(4, 0))\n",
       "        (bn): BatchNorm2d(64, eps=1e-05, momentum=0.1, affine=True, track_running_stats=True)\n",
       "        (non_linearity): ReLU()\n",
       "      )\n",
       "      (dropout): Dropout(p=0.5, inplace=False)\n",
       "    )\n",
       "    (3): stgcn_unit(\n",
       "      (sgcn): unit_sgcn(\n",
       "        (conv_nets): ModuleList(\n",
       "          (0-1): 2 x Conv2d(64, 128, kernel_size=(1, 1), stride=(1, 1))\n",
       "        )\n",
       "        (bn): BatchNorm2d(128, eps=1e-05, momentum=0.1, affine=True, track_running_stats=True)\n",
       "        (non_linearity): ReLU()\n",
       "      )\n",
       "      (tgcn): unit_tgcn(\n",
       "        (conv_net): Conv2d(128, 128, kernel_size=(9, 1), stride=(2, 1), padding=(4, 0))\n",
       "        (bn): BatchNorm2d(128, eps=1e-05, momentum=0.1, affine=True, track_running_stats=True)\n",
       "        (non_linearity): ReLU()\n",
       "      )\n",
       "      (dropout): Dropout(p=0.5, inplace=False)\n",
       "      (transform): Sequential(\n",
       "        (0): Conv2d(64, 128, kernel_size=(1, 1), stride=(2, 1))\n",
       "        (1): BatchNorm2d(128, eps=1e-05, momentum=0.1, affine=True, track_running_stats=True)\n",
       "      )\n",
       "    )\n",
       "    (4-5): 2 x stgcn_unit(\n",
       "      (sgcn): unit_sgcn(\n",
       "        (conv_nets): ModuleList(\n",
       "          (0-1): 2 x Conv2d(128, 128, kernel_size=(1, 1), stride=(1, 1))\n",
       "        )\n",
       "        (bn): BatchNorm2d(128, eps=1e-05, momentum=0.1, affine=True, track_running_stats=True)\n",
       "        (non_linearity): ReLU()\n",
       "      )\n",
       "      (tgcn): unit_tgcn(\n",
       "        (conv_net): Conv2d(128, 128, kernel_size=(9, 1), stride=(1, 1), padding=(4, 0))\n",
       "        (bn): BatchNorm2d(128, eps=1e-05, momentum=0.1, affine=True, track_running_stats=True)\n",
       "        (non_linearity): ReLU()\n",
       "      )\n",
       "      (dropout): Dropout(p=0.5, inplace=False)\n",
       "    )\n",
       "    (6): stgcn_unit(\n",
       "      (sgcn): unit_sgcn(\n",
       "        (conv_nets): ModuleList(\n",
       "          (0-1): 2 x Conv2d(128, 256, kernel_size=(1, 1), stride=(1, 1))\n",
       "        )\n",
       "        (bn): BatchNorm2d(256, eps=1e-05, momentum=0.1, affine=True, track_running_stats=True)\n",
       "        (non_linearity): ReLU()\n",
       "      )\n",
       "      (tgcn): unit_tgcn(\n",
       "        (conv_net): Conv2d(256, 256, kernel_size=(9, 1), stride=(2, 1), padding=(4, 0))\n",
       "        (bn): BatchNorm2d(256, eps=1e-05, momentum=0.1, affine=True, track_running_stats=True)\n",
       "        (non_linearity): ReLU()\n",
       "      )\n",
       "      (dropout): Dropout(p=0.5, inplace=False)\n",
       "      (transform): Sequential(\n",
       "        (0): Conv2d(128, 256, kernel_size=(1, 1), stride=(2, 1))\n",
       "        (1): BatchNorm2d(256, eps=1e-05, momentum=0.1, affine=True, track_running_stats=True)\n",
       "      )\n",
       "    )\n",
       "    (7-8): 2 x stgcn_unit(\n",
       "      (sgcn): unit_sgcn(\n",
       "        (conv_nets): ModuleList(\n",
       "          (0-1): 2 x Conv2d(256, 256, kernel_size=(1, 1), stride=(1, 1))\n",
       "        )\n",
       "        (bn): BatchNorm2d(256, eps=1e-05, momentum=0.1, affine=True, track_running_stats=True)\n",
       "        (non_linearity): ReLU()\n",
       "      )\n",
       "      (tgcn): unit_tgcn(\n",
       "        (conv_net): Conv2d(256, 256, kernel_size=(9, 1), stride=(1, 1), padding=(4, 0))\n",
       "        (bn): BatchNorm2d(256, eps=1e-05, momentum=0.1, affine=True, track_running_stats=True)\n",
       "        (non_linearity): ReLU()\n",
       "      )\n",
       "      (dropout): Dropout(p=0.5, inplace=False)\n",
       "    )\n",
       "  )\n",
       "  (fcn): Conv1d(256, 2, kernel_size=(1,), stride=(1,))\n",
       ")"
      ]
     },
     "execution_count": 49,
     "metadata": {},
     "output_type": "execute_result"
    }
   ],
   "source": [
    "model = stgcn(num_class=2, window_size=85, num_point=25, graph=A)\n",
    "model.to(device)"
   ]
  },
  {
   "cell_type": "code",
   "execution_count": 50,
   "metadata": {},
   "outputs": [
    {
     "name": "stderr",
     "output_type": "stream",
     "text": [
      "Training Loss: 0.0041: 100%|██████████| 30/30 [02:02<00:00,  4.07s/it]"
     ]
    },
    {
     "name": "stdout",
     "output_type": "stream",
     "text": [
      "Training accuracy: 0.9069767441860465\n",
      "Validation accuracy: 0.8762886597938144\n"
     ]
    },
    {
     "name": "stderr",
     "output_type": "stream",
     "text": [
      "\n"
     ]
    },
    {
     "data": {
      "image/png": "[encoded data removed]",
      "text/plain": [
       "<Figure size 1000x400 with 2 Axes>"
      ]
     },
     "metadata": {},
     "output_type": "display_data"
    }
   ],
   "source": [
    "epochs = 30\n",
    "lr = 0.01\n",
    "weight_decay = 0\n",
    "batch_size = 100\n",
    "loss_func = nn.CrossEntropyLoss()\n",
    "# optimizer = torch.optim.Adam(model.parameters(), lr=lr, weight_decay=weight_decay)\n",
    "optimizer = torch.optim.SGD(model.parameters(), lr=lr, weight_decay=weight_decay, momentum=0.1)\n",
    "# scheduler = torch.optim.lr_scheduler.StepLR(optimizer, step_size=10, gamma=0.9)\n",
    "training_loader = torch.utils.data.DataLoader(training_set, batch_size=batch_size, shuffle=True)\n",
    "validation_loader = torch.utils.data.DataLoader(validation_set, batch_size=batch_size, shuffle=False)\n",
    "\n",
    "train_loss_list, train_acc_list = [], []\n",
    "val_loss_list, val_acc_list = [], []\n",
    "\n",
    "progress = tqdm(np.arange(epochs))\n",
    "for n in progress:\n",
    "    model.train()\n",
    "    for X_batch, y_batch in training_loader:\n",
    "        X_batch = X_batch.to(device)\n",
    "        y_batch = y_batch.type(torch.LongTensor).to(device)\n",
    "\n",
    "        y_pred = model(X_batch)\n",
    "        batch_loss = loss_func(y_pred, y_batch)\n",
    "\n",
    "        optimizer.zero_grad()\n",
    "        batch_loss.backward()\n",
    "        optimizer.step()\n",
    "    \n",
    "    # scheduler.step()\n",
    "\n",
    "    train_loss, train_acc = evaluate(model, training_loader)\n",
    "    train_loss_list.append(train_loss)\n",
    "    train_acc_list.append(train_acc)\n",
    "\n",
    "    val_loss, val_acc = evaluate(model, validation_loader)\n",
    "    val_loss_list.append(val_loss)\n",
    "    val_acc_list.append(val_acc)\n",
    "    \n",
    "    progress.set_description(f'Training Loss: {train_loss:.4f}')\n",
    "\n",
    "x_axis = np.arange(epochs)\n",
    "fig, axes = plt.subplots(1, 2, figsize=(10, 4))\n",
    "axes[0].plot(x_axis, train_loss_list, label=\"Training\")\n",
    "axes[0].plot(x_axis, val_loss_list, label=\"Validation\")\n",
    "axes[0].set_title(\"Loss\")\n",
    "axes[0].legend()\n",
    "axes[1].plot(x_axis, train_acc_list, label='Train')\n",
    "axes[1].plot(x_axis, val_acc_list, label='Validation')\n",
    "axes[1].set_title(\"Accuracy\")\n",
    "axes[1].legend()\n",
    "\n",
    "print(f\"Training accuracy: {train_acc_list[-1]}\")\n",
    "print(f\"Validation accuracy: {val_acc_list[-1]}\")"
   ]
  },
  {
   "cell_type": "code",
   "execution_count": 36,
   "metadata": {},
   "outputs": [
    {
     "data": {
      "text/plain": [
       "(0.004065463747781069, 0.9160206718346253)"
      ]
     },
     "execution_count": 36,
     "metadata": {},
     "output_type": "execute_result"
    }
   ],
   "source": [
    "evaluate(model, training_loader)"
   ]
  },
  {
   "cell_type": "code",
   "execution_count": 37,
   "metadata": {},
   "outputs": [
    {
     "data": {
      "text/plain": [
       "(0.004319912533170169, 0.8762886597938144)"
      ]
     },
     "execution_count": 37,
     "metadata": {},
     "output_type": "execute_result"
    }
   ],
   "source": [
    "evaluate(model, validation_loader)"
   ]
  },
  {
   "cell_type": "code",
   "execution_count": 38,
   "metadata": {},
   "outputs": [],
   "source": [
    "torch.save(model.state_dict(), 'baseline_model_87acc.pth')"
   ]
  },
  {
   "cell_type": "code",
   "execution_count": null,
   "metadata": {},
   "outputs": [],
   "source": []
  }
 ],
 "metadata": {
  "kernelspec": {
   "display_name": "research_py396",
   "language": "python",
   "name": "python3"
  },
  "language_info": {
   "codemirror_mode": {
    "name": "ipython",
    "version": 3
   },
   "file_extension": ".py",
   "mimetype": "text/x-python",
   "name": "python",
   "nbconvert_exporter": "python",
   "pygments_lexer": "ipython3",
   "version": "3.9.6"
  }
 },
 "nbformat": 4,
 "nbformat_minor": 2
}
