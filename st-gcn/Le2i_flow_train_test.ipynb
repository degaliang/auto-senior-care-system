{
 "cells": [
  {
   "cell_type": "code",
   "execution_count": 1,
   "metadata": {},
   "outputs": [],
   "source": [
    "%load_ext autoreload\n",
    "%autoreload 2"
   ]
  },
  {
   "cell_type": "code",
   "execution_count": 63,
   "metadata": {},
   "outputs": [],
   "source": [
    "import cv2\n",
    "import torch\n",
    "import torch.nn as nn\n",
    "import numpy as np\n",
    "import matplotlib.pyplot as plt\n",
    "\n",
    "import utils\n",
    "import eval\n",
    "\n",
    "from model.stgcn import flow_stgcn\n",
    "from model.st_graph import get_distance_adjacency\n",
    "from torch.utils.data import Dataset, DataLoader, Sampler\n",
    "from sklearn.model_selection import train_test_split, KFold\n",
    "from tqdm import tqdm\n",
    "from matplotlib.animation import FuncAnimation\n",
    "from matplotlib.collections import LineCollection"
   ]
  },
  {
   "cell_type": "code",
   "execution_count": 3,
   "metadata": {},
   "outputs": [],
   "source": [
    "edges = [\n",
    "    [0, 1],  # Nose - Left Eye\n",
    "    [0, 2],  # Nose - Right Eye\n",
    "    [1, 3],  # Left Eye - Left Ear\n",
    "    [2, 4],  # Right Eye - Right Ear\n",
    "    [1, 5],  # Left Eye - Left Shoulder\n",
    "    [2, 6],  # Right Eye - Right Shoulder\n",
    "    [5, 7],  # Left Shoulder - Left Elbow\n",
    "    [6, 8],  # Right Shoulder - Right Elbow\n",
    "    [7, 9],  # Left Elbow - Left Wrist\n",
    "    [8, 10],  # Right Elbow - Right Wrist\n",
    "    [5, 11],  # Left Shoulder - Left Hip\n",
    "    [6, 12],  # Right Shoulder - Right Hip\n",
    "    [11, 13],  # Left Hip - Left Knee\n",
    "    [12, 14],  # Right Hip - Right Knee\n",
    "    [13, 15],  # Left Knee - Left Ankle\n",
    "    [14, 16]   # Right Knee - Right Ankle\n",
    "]"
   ]
  },
  {
   "cell_type": "markdown",
   "metadata": {},
   "source": [
    "# Load the Le2i Coffe Room and Home"
   ]
  },
  {
   "cell_type": "code",
   "execution_count": 13,
   "metadata": {},
   "outputs": [],
   "source": [
    "# dict_keys(['filename', 'keypoints', 'scores', 'boxes', 'frame_ids', 'flows', 'offset', 'fall_interval'])\n",
    "coffee_falls = np.load(\"D:\\ASH\\datasets\\Le2i-skeleton\\Coffee room\\Skeletons_full\\\\falls.npy\", allow_pickle=True)\n",
    "coffee_non_falls = np.load(\"D:\\ASH\\datasets\\Le2i-skeleton\\Coffee room\\Skeletons_full\\\\non_falls.npy\", allow_pickle=True)\n",
    "home_falls = np.load(\"D:\\ASH\\datasets\\Le2i-skeleton\\Home\\Skeletons_full\\\\falls.npy\", allow_pickle=True)\n",
    "home_non_falls = np.load(\"D:\\ASH\\datasets\\Le2i-skeleton\\Home\\Skeletons_full\\\\non_falls.npy\", allow_pickle=True)"
   ]
  },
  {
   "cell_type": "code",
   "execution_count": 14,
   "metadata": {},
   "outputs": [],
   "source": [
    "c_fall_train, c_fall_test = train_test_split(coffee_falls, test_size=0.2)\n",
    "c_nfall_train, c_nfall_test = train_test_split(coffee_non_falls, test_size=0.2)\n",
    "h_fall_train, h_fall_test = train_test_split(home_falls, test_size=0.2)\n",
    "h_nfall_train, h_nfall_test = train_test_split(home_non_falls, test_size=0.2)\n",
    "\n",
    "c_test = [('coffee_room ' + data['filename'], data['keypoints'], data['flows'], data['frame_ids']) for data in c_fall_test.tolist()] + [('coffee_room ' + data['filename'], data['keypoints'], data['flows'], data['frame_ids']) for data in c_nfall_test.tolist()]\n",
    "h_test = [('home ' + data['filename'], data['keypoints'], data['flows'], data['frame_ids']) for data in h_fall_test.tolist()] + [('home ' + data['filename'], data['keypoints'], data['flows'], data['frame_ids']) for data in h_nfall_test.tolist()]\n",
    "test_data = c_test + h_test\n",
    "test_labels = np.concatenate((np.ones(len(c_fall_test)), np.zeros(len(c_nfall_test)), np.ones(len(h_fall_test)), np.zeros(len(h_nfall_test))))"
   ]
  },
  {
   "cell_type": "code",
   "execution_count": 35,
   "metadata": {},
   "outputs": [],
   "source": [
    "falls = []\n",
    "non_falls = []\n",
    "\n",
    "train_falls, train_non_falls = utils.split_skeletons_and_flows(c_fall_train)\n",
    "falls += train_falls\n",
    "non_falls += train_non_falls\n",
    "\n",
    "train_falls, train_non_falls = utils.split_skeletons_and_flows(c_nfall_train)\n",
    "falls += train_falls\n",
    "non_falls += train_non_falls\n",
    "\n",
    "train_falls, train_non_falls = utils.split_skeletons_and_flows(h_fall_train)\n",
    "falls += train_falls\n",
    "non_falls += train_non_falls\n",
    "\n",
    "train_falls, train_non_falls = utils.split_skeletons_and_flows(h_nfall_train)\n",
    "falls += train_falls\n",
    "non_falls += train_non_falls\n",
    "\n",
    "X_falls = np.array([data['skeletons'] for data in falls])\n",
    "X_non_falls = np.array([data['skeletons'] for data in non_falls])\n",
    "X_falls_flow = np.array([data['flows'] for data in falls])\n",
    "X_non_falls_flow = np.array([data['flows'] for data in non_falls])\n",
    "\n",
    "X_falls = X_falls[:, :, :, :2].astype(np.float32) # remove the scores only keep the coordinates\n",
    "X_non_falls = X_non_falls[:, :, :, :2].astype(np.float32) # remove the scores only keep the coordinates"
   ]
  },
  {
   "cell_type": "code",
   "execution_count": 36,
   "metadata": {},
   "outputs": [
    {
     "name": "stdout",
     "output_type": "stream",
     "text": [
      "(78, 2, 45, 17) (699, 2, 45, 17) (78, 64, 45) (699, 64, 45)\n"
     ]
    }
   ],
   "source": [
    "# normalize the data using the max values in the dataset\n",
    "# the original coordinates is stored as (x, y)\n",
    "# Le2i resolution is 320x240\n",
    "\n",
    "max_x = 320\n",
    "max_y = 240\n",
    "\n",
    "X_falls[:, :, :, 0] /= max_x\n",
    "X_falls[:, :, :, 1] /= max_y\n",
    "X_non_falls[:, :, :, 0] /= max_x\n",
    "X_non_falls[:, :, :, 1] /= max_y\n",
    "X_falls = np.transpose(X_falls, (0, 3, 1, 2))\n",
    "X_non_falls = np.transpose(X_non_falls, (0, 3, 1, 2))\n",
    "X_falls_flow = np.transpose(X_falls_flow, (0, 2, 1))\n",
    "X_non_falls_flow = np.transpose(X_non_falls_flow, (0, 2, 1))\n",
    "\n",
    "print(X_falls.shape, X_non_falls.shape, X_falls_flow.shape, X_non_falls_flow.shape)"
   ]
  },
  {
   "cell_type": "markdown",
   "metadata": {},
   "source": [
    "# Initialize the model and dataset object"
   ]
  },
  {
   "cell_type": "code",
   "execution_count": 37,
   "metadata": {},
   "outputs": [],
   "source": [
    "num_node = 17\n",
    "A = get_distance_adjacency(np.array(edges), num_node)"
   ]
  },
  {
   "cell_type": "code",
   "execution_count": 38,
   "metadata": {},
   "outputs": [
    {
     "data": {
      "text/plain": [
       "device(type='cuda')"
      ]
     },
     "execution_count": 38,
     "metadata": {},
     "output_type": "execute_result"
    }
   ],
   "source": [
    "device = torch.device(\"cuda\" if torch.cuda.is_available() else \"cpu\")\n",
    "device"
   ]
  },
  {
   "cell_type": "code",
   "execution_count": 39,
   "metadata": {},
   "outputs": [],
   "source": [
    "class FlowFallDataset(Dataset):\n",
    "    def __init__(self, falls, non_falls, falls_flow, non_falls_flow):\n",
    "        self.falls = falls\n",
    "        self.non_falls = non_falls\n",
    "        self.falls_flow = falls_flow\n",
    "        self.non_falls_flow = non_falls_flow\n",
    "\n",
    "    def __len__(self):\n",
    "        # The dataset length is twice the length of the smaller list\n",
    "        return len(self.falls) + len(self.non_falls)\n",
    "\n",
    "    def __getitem__(self, idx):\n",
    "        if idx < len(self.falls):\n",
    "            return self.falls[idx], self.falls_flow[idx], 1.0\n",
    "        else:\n",
    "            return self.non_falls[idx - len(self.falls)], self.non_falls_flow[idx - len(self.falls)], 0.0\n",
    "\n",
    "class BalancedBatchSampler(Sampler):\n",
    "    def __init__(self, dataset):\n",
    "        self.num_falls = len(dataset.falls)\n",
    "        self.num_non_falls = len(dataset.non_falls)\n",
    "        self.data_size = self.num_falls + self.num_non_falls\n",
    "        self.batch_size = 2 * self.num_falls\n",
    "\n",
    "    def __iter__(self):\n",
    "        # Create an array of indices representing balanced classes\n",
    "        non_fall_indices = np.arange(self.num_non_falls)\n",
    "        np.random.shuffle(non_fall_indices)  # Shuffle the indices to have random batches\n",
    "        batch = np.arange(self.num_falls).tolist()\n",
    "        for idx in non_fall_indices:\n",
    "            batch.append(idx)\n",
    "            if len(batch) == self.batch_size:\n",
    "                yield batch\n",
    "                batch = np.arange(self.num_falls).tolist()\n",
    "        if len(batch) > 0:  # Yield remaining items not fitting into a full batch\n",
    "            yield batch\n",
    "\n",
    "    def __len__(self):\n",
    "        return (self.data_size + self.batch_size - 1) // self.batch_size\n",
    "\n",
    "def evaluate(model, loader, print_acc=False):\n",
    "    model.eval()\n",
    "    loss_func = nn.CrossEntropyLoss()\n",
    "    acc, loss = 0.0, 0.0\n",
    "    for X_batch, flow_batch, y_batch in loader:\n",
    "        X_batch = X_batch.to(device)\n",
    "        flow_batch = flow_batch.to(device)\n",
    "        y_batch = y_batch.type(torch.LongTensor).to(device)\n",
    "        with torch.no_grad():\n",
    "            y_pred = model(X_batch, flow_batch)\n",
    "            loss += loss_func(y_pred, y_batch).detach().cpu().item()\n",
    "            acc += torch.sum(torch.argmax(y_pred, axis=-1) == y_batch).detach().cpu().item()\n",
    "            \n",
    "    loss /= len(loader.dataset)\n",
    "    acc /= len(loader.dataset)\n",
    "    return loss, acc"
   ]
  },
  {
   "cell_type": "code",
   "execution_count": 55,
   "metadata": {},
   "outputs": [],
   "source": [
    "class Trainer:\n",
    "    def __init__(self, model, opt_method, lr, batch_size, epochs, weight_decay=0, momentum=0) -> None:\n",
    "        self.model = model\n",
    "        self.model.to(device)\n",
    "        self.optimizer = torch.optim.Adam(model.parameters(), lr=lr, weight_decay=weight_decay)\n",
    "        self.batch_size = batch_size\n",
    "        self.epochs = epochs\n",
    "        self.lr = lr\n",
    "    \n",
    "    def train(self, training_set, validation_set, early_stop=False):\n",
    "        loss_func = nn.CrossEntropyLoss()\n",
    "        training_loader = torch.utils.data.DataLoader(training_set, batch_sampler=BalancedBatchSampler(training_set))\n",
    "        train_eval_loader = torch.utils.data.DataLoader(training_set, batch_size=100, shuffle=False)\n",
    "        validation_loader = torch.utils.data.DataLoader(validation_set, batch_size=100, shuffle=False)\n",
    "\n",
    "        train_loss_list, train_acc_list = [], []\n",
    "        val_loss_list, val_acc_list = [], []\n",
    "\n",
    "        progress = tqdm(np.arange(self.epochs))\n",
    "        for n in progress:\n",
    "            self.model.train()\n",
    "            for X_batch, flow_batch, y_batch in training_loader:\n",
    "                X_batch = X_batch.to(device)\n",
    "                flow_batch = flow_batch.to(device)\n",
    "                y_batch = y_batch.type(torch.LongTensor).to(device)\n",
    "\n",
    "                y_pred = self.model(X_batch, flow_batch)\n",
    "                batch_loss = loss_func(y_pred, y_batch)\n",
    "\n",
    "                self.optimizer.zero_grad()\n",
    "                batch_loss.backward()\n",
    "                self.optimizer.step()\n",
    "\n",
    "            train_loss, train_acc = evaluate(self.model, train_eval_loader)\n",
    "            train_loss_list.append(train_loss)\n",
    "            train_acc_list.append(train_acc)\n",
    "\n",
    "            val_loss, val_acc = evaluate(self.model, validation_loader)\n",
    "            val_loss_list.append(val_loss)\n",
    "            val_acc_list.append(val_acc)\n",
    "            \n",
    "            progress.set_description(f'Training Loss: {train_loss:.4f}')\n",
    "\n",
    "        x_axis = np.arange(self.epochs)\n",
    "        fig, axes = plt.subplots(1, 2, figsize=(10, 4))\n",
    "        axes[0].plot(x_axis, train_loss_list, label=\"Training\")\n",
    "        axes[0].plot(x_axis, val_loss_list, label=\"Validation\")\n",
    "        axes[0].set_title(\"Loss\")\n",
    "        axes[0].set_xlabel('Epoch')\n",
    "        axes[0].legend()\n",
    "        axes[1].plot(x_axis, train_acc_list, label='Training')\n",
    "        axes[1].plot(x_axis, val_acc_list, label='Validation')\n",
    "        axes[1].set_title(\"Accuracy\")\n",
    "        axes[1].set_xlabel('Epoch')\n",
    "        axes[1].legend()\n",
    "\n",
    "        print(f\"Training loss: {train_loss_list[-1]}\")\n",
    "        print(f\"Validation loss: {val_loss_list[-1]}\")\n",
    "        print(f\"Training accuracy: {train_acc_list[-1]}\")\n",
    "        print(f\"Validation accuracy: {val_acc_list[-1]}\")\n",
    "        \n",
    "        return {'train_loss': train_acc_list, 'val_loss': val_loss_list, 'train_acc': train_acc_list, 'val_acc': val_acc_list}\n",
    "    \n",
    "    def evaluate(self, loader):\n",
    "        self.model.eval()\n",
    "        loss_func = nn.CrossEntropyLoss()\n",
    "        acc, loss = 0.0, 0.0\n",
    "        for X_batch, flow_batch, y_batch in loader:\n",
    "            X_batch = X_batch.to(device)\n",
    "            flow_batch = flow_batch.to(device)\n",
    "            y_batch = y_batch.type(torch.LongTensor).to(device)\n",
    "            with torch.no_grad():\n",
    "                y_pred = self.model(X_batch, flow_batch)\n",
    "                loss += loss_func(y_pred, y_batch).detach().cpu().item()\n",
    "                acc += torch.sum(torch.argmax(y_pred, axis=-1) == y_batch).detach().cpu().item()\n",
    "                \n",
    "        loss /= len(loader.dataset)\n",
    "        acc /= len(loader.dataset)\n",
    "        return loss, acc\n",
    "\n",
    "def KFoldCrossValidation(\n",
    "    model_class, k,\n",
    "    X_falls, X_non_falls, X_test, y_test,\n",
    "    opt_method='adam', lr=1e-3, batch_size=128, epochs=50, weight_decay=0.0,\n",
    "    early_break=False,\n",
    "    **model_args\n",
    " ):\n",
    "    test_set = (X_test, y_test)\n",
    "    \n",
    "    # Setting up two KFold instances\n",
    "    kf_falls = KFold(n_splits=k, shuffle=True)\n",
    "    kf_non_falls = KFold(n_splits=k, shuffle=True)\n",
    "\n",
    "    train_acc_list, val_acc_list, test_acc_list = [], [], []\n",
    "    for i, ((train_idx_f, valid_idx_f), (train_idx_nf, valid_idx_nf)) in enumerate(zip(kf_falls.split(X_falls), kf_non_falls.split(X_non_falls))):\n",
    "        print(f\"Fold {i}:\")\n",
    "        model = model_class(**model_args)\n",
    "        trainer = Trainer(model, opt_method, lr, batch_size, epochs, weight_decay=weight_decay, momentum=0)\n",
    "        training_set = FlowFallDataset(falls=X_falls[train_idx_f], non_falls=X_non_falls[train_idx_nf])\n",
    "        validation_set = FlowFallDataset(falls=X_falls[valid_idx_f], non_falls=X_non_falls[valid_idx_nf])\n",
    "        res = trainer.train(training_set, validation_set)\n",
    "        train_acc_best = np.max(res['train_acc'])\n",
    "        val_acc_best = np.max(res['val_acc'])\n",
    "        test_acc, test_results = eval.evaluate(model, device, testset=test_set, profile=False)\n",
    "        train_acc_list.append(train_acc_best)\n",
    "        val_acc_list.append(val_acc_best)\n",
    "        test_acc_list.append(test_acc)\n",
    "        print(f\"Best training accuracy: {train_acc_best}\")\n",
    "        print(f\"Best validation accuracy: {val_acc_best}\")\n",
    "        print(f\"Test accuracy: {test_acc}\")\n",
    "        if early_break:\n",
    "            break\n",
    "        \n",
    "    if not early_break:\n",
    "        print(\"Final results:\")\n",
    "        print(f\"Training accuracy: {np.mean(train_acc_list)}+/-{np.std(train_acc_list)}\")\n",
    "        print(f\"Validation accuracy: {np.mean(val_acc_list)}+/-{np.std(val_acc_list)}\")\n",
    "        print(f\"Test accuracy: {np.mean(test_acc_list)}+/-{np.std(test_acc_list)}\")"
   ]
  },
  {
   "cell_type": "markdown",
   "metadata": {},
   "source": [
    "# Training loop"
   ]
  },
  {
   "cell_type": "code",
   "execution_count": 104,
   "metadata": {},
   "outputs": [],
   "source": [
    "layer_config = [(64, 64, 1), (64, 64, 1), (64, 128, 2), (128, 128, 1),\n",
    "                (128, 128, 1), (128, 256, 2), (256, 256, 1)]\n",
    "default_layer_config = [(64, 64, 1), (64, 64, 1), (64, 64, 1), (64, 128, 2), (128, 128, 1),\n",
    "                        (128, 128, 1), (128, 256, 2), (256, 256, 1), (256, 256, 1)] # (in_channles, out_channels, temporal_stride)\n",
    "my_config = [(64, 64, 1), (64, 64, 1), (64, 128, 2), (128, 128, 1),\n",
    "                (128, 128, 1), (128, 256, 2), (256, 256, 1)]"
   ]
  },
  {
   "cell_type": "code",
   "execution_count": 115,
   "metadata": {},
   "outputs": [
    {
     "name": "stderr",
     "output_type": "stream",
     "text": [
      "Training Loss: 0.0050: 100%|██████████| 35/35 [02:21<00:00,  4.05s/it]"
     ]
    },
    {
     "name": "stdout",
     "output_type": "stream",
     "text": [
      "Training loss: 0.005016497397582803\n",
      "Validation loss: 0.014344768598675728\n",
      "Training accuracy: 0.8469798657718121\n",
      "Validation accuracy: 0.84375\n"
     ]
    },
    {
     "name": "stderr",
     "output_type": "stream",
     "text": [
      "\n"
     ]
    },
    {
     "data": {
      "image/png": "[encoded data removed]",
      "text/plain": [
       "<Figure size 1000x400 with 2 Axes>"
      ]
     },
     "metadata": {},
     "output_type": "display_data"
    }
   ],
   "source": [
    "model = None\n",
    "model = flow_stgcn(num_class=2, window_size=45, num_point=17, graph=A, layer_config=default_layer_config, learnable_mask=True, flow_norm=True)\n",
    "model.to(device)\n",
    "\n",
    "falls_train, falls_valid = train_test_split(X_falls, test_size=0.2)\n",
    "falls_flow_train, falls_flow_valid = train_test_split(X_falls_flow, test_size=0.2)\n",
    "non_falls_train, non_falls_valid = train_test_split(X_non_falls, test_size=len(falls_valid))\n",
    "non_falls_flow_train, non_falls_flow_valid = train_test_split(X_non_falls_flow, test_size=len(falls_valid))\n",
    "training_set = FlowFallDataset(falls=falls_train, non_falls=non_falls_train, falls_flow=falls_flow_train, non_falls_flow=non_falls_flow_train)\n",
    "validation_set = FlowFallDataset(falls=falls_valid, non_falls=non_falls_valid, falls_flow=falls_flow_valid, non_falls_flow=non_falls_flow_valid)\n",
    "\n",
    "\n",
    "epochs = 35\n",
    "lr = 0.001\n",
    "weight_decay = 0\n",
    "batch_size = 100\n",
    "loss_func = nn.CrossEntropyLoss()\n",
    "optimizer = torch.optim.Adam(model.parameters(), lr=lr, weight_decay=weight_decay)\n",
    "training_loader = torch.utils.data.DataLoader(training_set, batch_sampler=BalancedBatchSampler(training_set))\n",
    "train_eval_loader = torch.utils.data.DataLoader(training_set, batch_size=100, shuffle=False)\n",
    "validation_loader = torch.utils.data.DataLoader(validation_set, batch_size=100, shuffle=False)\n",
    "\n",
    "train_loss_list, train_acc_list = [], []\n",
    "val_loss_list, val_acc_list = [], []\n",
    "\n",
    "progress = tqdm(np.arange(epochs))\n",
    "for n in progress:\n",
    "    model.train()\n",
    "    for X_batch, flow_batch, y_batch in training_loader:\n",
    "        X_batch = X_batch.to(device)\n",
    "        flow_batch = flow_batch.to(device)\n",
    "        y_batch = y_batch.type(torch.LongTensor).to(device)\n",
    "\n",
    "        y_pred = model(X_batch, flow_batch)\n",
    "        batch_loss = loss_func(y_pred, y_batch)\n",
    "\n",
    "        optimizer.zero_grad()\n",
    "        batch_loss.backward()\n",
    "        optimizer.step()\n",
    "\n",
    "    train_loss, train_acc = evaluate(model, train_eval_loader)\n",
    "    train_loss_list.append(train_loss)\n",
    "    train_acc_list.append(train_acc)\n",
    "\n",
    "    val_loss, val_acc = evaluate(model, validation_loader)\n",
    "    val_loss_list.append(val_loss)\n",
    "    val_acc_list.append(val_acc)\n",
    "    \n",
    "    progress.set_description(f'Training Loss: {train_loss:.4f}')\n",
    "\n",
    "x_axis = np.arange(epochs)\n",
    "fig, axes = plt.subplots(1, 2, figsize=(10, 4))\n",
    "axes[0].plot(x_axis, train_loss_list, label=\"Training\")\n",
    "axes[0].plot(x_axis, val_loss_list, label=\"Validation\")\n",
    "axes[0].set_title(\"Loss\")\n",
    "axes[0].set_xlabel('Epoch')\n",
    "axes[0].legend()\n",
    "axes[1].plot(x_axis, train_acc_list, label='Training')\n",
    "axes[1].plot(x_axis, val_acc_list, label='Validation')\n",
    "axes[1].set_title(\"Accuracy\")\n",
    "axes[1].set_xlabel('Epoch')\n",
    "axes[1].legend()\n",
    "\n",
    "print(f\"Training loss: {train_loss_list[-1]}\")\n",
    "print(f\"Validation loss: {val_loss_list[-1]}\")\n",
    "print(f\"Training accuracy: {train_acc_list[-1]}\")\n",
    "print(f\"Validation accuracy: {val_acc_list[-1]}\")"
   ]
  },
  {
   "cell_type": "code",
   "execution_count": 116,
   "metadata": {},
   "outputs": [
    {
     "name": "stderr",
     "output_type": "stream",
     "text": [
      "100%|██████████| 28/28 [00:09<00:00,  3.03it/s]"
     ]
    },
    {
     "name": "stdout",
     "output_type": "stream",
     "text": [
      "False positives: ['coffee_room video (69)', 'home video (59)', 'home video (41)']\n",
      "False negatives: ['coffee_room video (13)']\n",
      "Accuracy: 0.8571428571428571\n"
     ]
    },
    {
     "name": "stderr",
     "output_type": "stream",
     "text": [
      "\n"
     ]
    }
   ],
   "source": [
    "acc, results = eval.evaluate_flow(model, device, testset=([data[:4] for data in test_data], test_labels), profile=True)"
   ]
  },
  {
   "cell_type": "markdown",
   "metadata": {},
   "source": [
    "# Test on unseen data"
   ]
  },
  {
   "cell_type": "code",
   "execution_count": 100,
   "metadata": {},
   "outputs": [],
   "source": [
    "LEC_ROOM_DIR = \"D:\\ASH\\datasets\\Le2i-skeleton\\Lecture room\\Skeletons_full\"\n",
    "OFFICE_DIR = \"D:\\ASH\\datasets\\Le2i-skeleton\\Office\\Skeletons_full\"\n",
    "LEC_ROOM_FLOWS_DIR = \"D:\\ASH\\datasets\\Le2i-skeleton\\Lecture room\\Flows\"\n",
    "OFFICE_FLOWS_DIR = \"D:\\ASH\\datasets\\Le2i-skeleton\\Office\\Flows\"\n",
    "\n",
    "lec_room = eval.load_data(LEC_ROOM_DIR, LEC_ROOM_FLOWS_DIR)\n",
    "lec_room = [('lec_room ' + data[0], data[1], data[2], data[3]) for data in lec_room]\n",
    "    \n",
    "office = eval.load_data(OFFICE_DIR, OFFICE_FLOWS_DIR)\n",
    "office = [('office ' + data[0], data[1], data[2], data[3]) for data in office]"
   ]
  },
  {
   "cell_type": "code",
   "execution_count": 101,
   "metadata": {},
   "outputs": [],
   "source": [
    "unseen_test_data = lec_room + office\n",
    "unseen_test_labels = eval.LEC_ROOM_LABELS + eval.OFFICE_LABELS"
   ]
  },
  {
   "cell_type": "code",
   "execution_count": 113,
   "metadata": {},
   "outputs": [
    {
     "data": {
      "text/plain": [
       "<All keys matched successfully>"
      ]
     },
     "execution_count": 113,
     "metadata": {},
     "output_type": "execute_result"
    }
   ],
   "source": [
    "state_dict = torch.load(\"D:\\ASH\\\\auto-senior-care-system\\st-gcn\\model_weights\\le2i_flow_97acc.pth\")\n",
    "model.load_state_dict(state_dict)"
   ]
  },
  {
   "cell_type": "code",
   "execution_count": 117,
   "metadata": {},
   "outputs": [
    {
     "name": "stderr",
     "output_type": "stream",
     "text": [
      "100%|██████████| 60/60 [00:20<00:00,  2.89it/s]"
     ]
    },
    {
     "name": "stdout",
     "output_type": "stream",
     "text": [
      "False positives: ['lec_room video (16)', 'lec_room video (17)', 'lec_room video (19)', 'lec_room video (21)', 'lec_room video (22)', 'lec_room video (23)', 'lec_room video (24)', 'lec_room video (25)', 'lec_room video (26)', 'lec_room video (27)', 'office video (19)', 'office video (20)', 'office video (22)', 'office video (23)', 'office video (25)', 'office video (30)']\n",
      "False negatives: ['office video (13)']\n",
      "Accuracy: 0.7166666666666667\n"
     ]
    },
    {
     "name": "stderr",
     "output_type": "stream",
     "text": [
      "\n"
     ]
    }
   ],
   "source": [
    "stride = 1\n",
    "test_acc, test_results = eval.evaluate_flow(model, device, testset=([data[:4] for data in unseen_test_data], unseen_test_labels), profile=True, stride=stride)"
   ]
  },
  {
   "cell_type": "code",
   "execution_count": 121,
   "metadata": {},
   "outputs": [
    {
     "name": "stdout",
     "output_type": "stream",
     "text": [
      "lec_room video (22)\n"
     ]
    }
   ],
   "source": [
    "sample = unseen_test_data[21]\n",
    "# sample = test_data[1]\n",
    "\n",
    "skeleton_batch, flow_batch = eval.create_batch_flow(sample[1], sample[2], sample[3])\n",
    "print(sample[0])"
   ]
  },
  {
   "cell_type": "markdown",
   "metadata": {},
   "source": [
    "# Visualization"
   ]
  },
  {
   "cell_type": "code",
   "execution_count": 123,
   "metadata": {},
   "outputs": [],
   "source": [
    "import time"
   ]
  },
  {
   "cell_type": "code",
   "execution_count": 126,
   "metadata": {},
   "outputs": [
    {
     "name": "stdout",
     "output_type": "stream",
     "text": [
      "lec_room video (21)\n",
      "Inference time on 2 sub-sequences: 1.0219309329986572. The average time: 0.0011924514970812804\n"
     ]
    }
   ],
   "source": [
    "filename, skeletons, flows, frame_ids = unseen_test_data[20]\n",
    "print(filename)\n",
    "start_time = time.time()\n",
    "skeleton_batch, flow_batch = eval.create_batch_flow(skeletons, flows, frame_ids)\n",
    "model.eval()\n",
    "with torch.no_grad():\n",
    "    skeleton_batch = torch.tensor(skeleton_batch).to(device)\n",
    "    flow_batch = torch.tensor(flow_batch).to(device)\n",
    "    pred = model(skeleton_batch, flow_batch).cpu()\n",
    "results = torch.argmax(pred, axis=-1).numpy()\n",
    "runtime = time.time() - start_time\n",
    "print(f\"Inference time on {len(batch)} sub-sequences: {runtime}. The average time: {runtime / len(results)}\")"
   ]
  },
  {
   "cell_type": "code",
   "execution_count": 127,
   "metadata": {},
   "outputs": [],
   "source": [
    "# This is an example, replace it with your video path\n",
    "video_path = \"D:\\ASH\\datasets\\Le2i\\Lecture room\\Videos\\\\video (21).avi\"\n",
    "cap = cv2.VideoCapture(video_path)\n",
    "\n",
    "output_video_path = 'output_video.avi'  # Path to save the output video\n",
    "frame_width = 320  # Width of the frames in the video\n",
    "frame_height = 240  # Height of the frames in the video\n",
    "fps = 25  # Frames per second\n",
    "fourcc = cv2.VideoWriter_fourcc(*'XVID')  # Specify the codec\n",
    "out = cv2.VideoWriter(output_video_path, fourcc, fps, (frame_width, frame_height))\n",
    "\n",
    "frame_ptr = 0\n",
    "curr_frame = 0\n",
    "while cap.isOpened():\n",
    "    ret, frame = cap.read()\n",
    "    if not ret:\n",
    "        break\n",
    "    \n",
    "    position = (10, 10)  # Coordinates of the upper left corner\n",
    "    font = cv2.FONT_HERSHEY_SIMPLEX\n",
    "    font_scale = 0.5\n",
    "    \n",
    "    if frame_ptr < len(frame_ids) and frame_ids[frame_ptr] == curr_frame:\n",
    "        pred_idx = frame_ptr - 45 + 1\n",
    "        if pred_idx >= 0 and pred_idx < len(results):\n",
    "            pred = results[pred_idx]\n",
    "            if pred == 1:\n",
    "                text = \"Fall\"\n",
    "                font_color = (0, 0, 255)\n",
    "            else:\n",
    "                text = \"No fall\"\n",
    "                font_color = (0, 255, 0)\n",
    "            \n",
    "        # Example joint coordinates for one person in the frame\n",
    "        # Replace this with your actual detection data\n",
    "        # Format: [x, y, confidence]\n",
    "        joints = skeletons[frame_ptr]\n",
    "        \n",
    "        # Draw joints\n",
    "        for joint in joints:\n",
    "            # Convert coordinates to integers\n",
    "            x, y = int(joint[0]), int(joint[1])\n",
    "            cv2.circle(frame, (x, y), 4, (0, 0, 255), -1)\n",
    "        \n",
    "        # Draw skeleton\n",
    "        for bone in edges:\n",
    "            # Convert coordinates to integers\n",
    "            start_point, end_point = joints[bone[0]], joints[bone[1]]\n",
    "            start_point = (int(start_point[0]), int(start_point[1]))\n",
    "            end_point = (int(end_point[0]), int(end_point[1]))\n",
    "            cv2.line(frame, start_point, end_point, (255, 0, 0), 2)\n",
    "        \n",
    "        frame_ptr += 1\n",
    "    else:\n",
    "        font_color = (255, 255, 255)\n",
    "        text = \"N/A\"\n",
    "    \n",
    "    cv2.putText(frame, text, position, font, font_scale, font_color, thickness=2)\n",
    "\n",
    "    # Display the frame with drawn joints and connections\n",
    "    cv2.imshow('Frame', frame)\n",
    "    out.write(frame)\n",
    "    \n",
    "    # if frame_ptr >= len(results): break \n",
    "    \n",
    "    if cv2.waitKey(25) & 0xFF == ord('q'):\n",
    "        break\n",
    "\n",
    "    \n",
    "    curr_frame += 1\n",
    "\n",
    "# Release everything if job is finished\n",
    "out.release()\n",
    "cap.release()\n",
    "cv2.destroyAllWindows()"
   ]
  },
  {
   "cell_type": "code",
   "execution_count": null,
   "metadata": {},
   "outputs": [],
   "source": []
  }
 ],
 "metadata": {
  "kernelspec": {
   "display_name": "research_py396",
   "language": "python",
   "name": "python3"
  },
  "language_info": {
   "codemirror_mode": {
    "name": "ipython",
    "version": 3
   },
   "file_extension": ".py",
   "mimetype": "text/x-python",
   "name": "python",
   "nbconvert_exporter": "python",
   "pygments_lexer": "ipython3",
   "version": "3.9.6"
  }
 },
 "nbformat": 4,
 "nbformat_minor": 2
}
