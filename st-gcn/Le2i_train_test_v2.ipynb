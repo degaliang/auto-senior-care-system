{
 "cells": [
  {
   "cell_type": "code",
   "execution_count": 2,
   "metadata": {},
   "outputs": [],
   "source": [
    "%load_ext autoreload\n",
    "%autoreload 2"
   ]
  },
  {
   "cell_type": "code",
   "execution_count": 1,
   "metadata": {},
   "outputs": [],
   "source": [
    "import cv2\n",
    "import torch\n",
    "import torch.nn as nn\n",
    "import numpy as np\n",
    "import matplotlib.pyplot as plt\n",
    "\n",
    "import utils\n",
    "import eval\n",
    "from train_utils import FallDataset, BalancedBatchSampler, Trainer, evaluate, KFoldCrossValidation\n",
    "\n",
    "from model.stgcn import stgcn\n",
    "from model.st_graph import get_distance_adjacency, get_uniform_adjacency, get_adjacency\n",
    "from torch.utils.data import Dataset, DataLoader, Sampler\n",
    "from sklearn.model_selection import train_test_split, KFold\n",
    "from tqdm import tqdm\n",
    "from matplotlib.animation import FuncAnimation\n",
    "from matplotlib.collections import LineCollection"
   ]
  },
  {
   "cell_type": "code",
   "execution_count": 3,
   "metadata": {},
   "outputs": [],
   "source": [
    "edges = [\n",
    "    [0, 1],  # Nose - Left Eye\n",
    "    [0, 2],  # Nose - Right Eye\n",
    "    [1, 3],  # Left Eye - Left Ear\n",
    "    [2, 4],  # Right Eye - Right Ear\n",
    "    [1, 5],  # Left Eye - Left Shoulder\n",
    "    [2, 6],  # Right Eye - Right Shoulder\n",
    "    [5, 7],  # Left Shoulder - Left Elbow\n",
    "    [6, 8],  # Right Shoulder - Right Elbow\n",
    "    [7, 9],  # Left Elbow - Left Wrist\n",
    "    [8, 10],  # Right Elbow - Right Wrist\n",
    "    [5, 11],  # Left Shoulder - Left Hip\n",
    "    [6, 12],  # Right Shoulder - Right Hip\n",
    "    [11, 13],  # Left Hip - Left Knee\n",
    "    [12, 14],  # Right Hip - Right Knee\n",
    "    [13, 15],  # Left Knee - Left Ankle\n",
    "    [14, 16]   # Right Knee - Right Ankle\n",
    "]"
   ]
  },
  {
   "cell_type": "markdown",
   "metadata": {},
   "source": [
    "# Load the Le2i Coffe Room and Home"
   ]
  },
  {
   "cell_type": "code",
   "execution_count": 4,
   "metadata": {},
   "outputs": [],
   "source": [
    "# dict_keys(['filename', 'keypoints', 'scores', 'boxes', 'offset', 'fall_interval'])\n",
    "coffee_falls = np.load(\"D:\\ASH\\datasets\\Le2i-skeleton\\Coffee room\\Skeletons_full\\\\falls.npy\", allow_pickle=True)\n",
    "coffee_non_falls = np.load(\"D:\\ASH\\datasets\\Le2i-skeleton\\Coffee room\\Skeletons_full\\\\non_falls.npy\", allow_pickle=True)\n",
    "home_falls = np.load(\"D:\\ASH\\datasets\\Le2i-skeleton\\Home\\Skeletons_full\\\\falls.npy\", allow_pickle=True)\n",
    "home_non_falls = np.load(\"D:\\ASH\\datasets\\Le2i-skeleton\\Home\\Skeletons_full\\\\non_falls.npy\", allow_pickle=True)"
   ]
  },
  {
   "cell_type": "code",
   "execution_count": 5,
   "metadata": {},
   "outputs": [],
   "source": [
    "coffee_falls = utils.clean(coffee_falls)\n",
    "coffee_non_falls = utils.clean(coffee_non_falls)\n",
    "home_falls = utils.clean(home_falls)\n",
    "home_non_falls = utils.clean(home_non_falls)"
   ]
  },
  {
   "cell_type": "code",
   "execution_count": 6,
   "metadata": {},
   "outputs": [],
   "source": [
    "c_fall_train, c_fall_test = train_test_split(coffee_falls, test_size=0.2)\n",
    "c_nfall_train, c_nfall_test = train_test_split(coffee_non_falls, test_size=0.2)\n",
    "h_fall_train, h_fall_test = train_test_split(home_falls, test_size=0.2)\n",
    "h_nfall_train, h_nfall_test = train_test_split(home_non_falls, test_size=0.2)\n",
    "\n",
    "c_test = [('coffee_room ' + data['filename'], data['keypoints'], data['frame_ids']) for data in c_fall_test.tolist()] + [('coffee_room ' + data['filename'], data['keypoints'], data['frame_ids']) for data in c_nfall_test.tolist()]\n",
    "h_test = [('home ' + data['filename'], data['keypoints'], data['frame_ids']) for data in h_fall_test.tolist()] + [('home ' + data['filename'], data['keypoints'], data['frame_ids']) for data in h_nfall_test.tolist()]\n",
    "test_data = c_test + h_test\n",
    "test_labels = np.concatenate((np.ones(len(c_fall_test)), np.zeros(len(c_nfall_test)), np.ones(len(h_fall_test)), np.zeros(len(h_nfall_test))))"
   ]
  },
  {
   "cell_type": "code",
   "execution_count": 7,
   "metadata": {},
   "outputs": [
    {
     "name": "stdout",
     "output_type": "stream",
     "text": [
      "(51, 45, 17, 2) (466, 45, 17, 2)\n"
     ]
    }
   ],
   "source": [
    "nframes = 45\n",
    "shift_window = 0\n",
    "\n",
    "falls = []\n",
    "non_falls = []\n",
    "\n",
    "train_falls, train_non_falls = utils.split_skeletons(c_fall_train, nframes=nframes, shift_window=shift_window)\n",
    "falls += train_falls\n",
    "non_falls += train_non_falls\n",
    "\n",
    "train_falls, train_non_falls = utils.split_skeletons(c_nfall_train, nframes=nframes, shift_window=shift_window)\n",
    "falls += train_falls\n",
    "non_falls += train_non_falls\n",
    "\n",
    "train_falls, train_non_falls = utils.split_skeletons(h_fall_train, nframes=nframes, shift_window=shift_window)\n",
    "falls += train_falls\n",
    "non_falls += train_non_falls\n",
    "\n",
    "train_falls, train_non_falls = utils.split_skeletons(h_nfall_train, nframes=nframes, shift_window=shift_window)\n",
    "falls += train_falls\n",
    "non_falls += train_non_falls\n",
    "\n",
    "falls = np.array(falls)\n",
    "non_falls = np.array(non_falls)\n",
    "\n",
    "X_falls = falls[:, :, :, :2].astype(np.float32) # remove the scores only keep the coordinates\n",
    "X_non_falls = non_falls[:, :, :, :2].astype(np.float32) # remove the scores only keep the coordinates\n",
    "\n",
    "# X_falls = falls.astype(np.float32) # remove the scores only keep the coordinates\n",
    "# X_non_falls = non_falls.astype(np.float32) # remove the scores only keep the coordinates\n",
    "\n",
    "print(X_falls.shape, X_non_falls.shape)"
   ]
  },
  {
   "cell_type": "code",
   "execution_count": 8,
   "metadata": {},
   "outputs": [
    {
     "name": "stdout",
     "output_type": "stream",
     "text": [
      "(51, 2, 45, 17) (466, 2, 45, 17)\n"
     ]
    }
   ],
   "source": [
    "# normalize the data using the max values in the dataset\n",
    "# the original coordinates is stored as (x, y)\n",
    "# Le2i resolution is 320x240\n",
    "\n",
    "max_x = 320\n",
    "max_y = 240\n",
    "\n",
    "X_falls[:, :, :, 0] /= max_x\n",
    "X_falls[:, :, :, 1] /= max_y\n",
    "X_non_falls[:, :, :, 0] /= max_x\n",
    "X_non_falls[:, :, :, 1] /= max_y\n",
    "X_falls = np.transpose(X_falls, (0, 3, 1, 2))\n",
    "X_non_falls = np.transpose(X_non_falls, (0, 3, 1, 2))\n",
    "print(X_falls.shape, X_non_falls.shape)"
   ]
  },
  {
   "cell_type": "markdown",
   "metadata": {},
   "source": [
    "# Initialize the model and dataset object"
   ]
  },
  {
   "cell_type": "code",
   "execution_count": 9,
   "metadata": {},
   "outputs": [],
   "source": [
    "num_node = 17\n",
    "A = get_uniform_adjacency(np.array(edges), num_node)"
   ]
  },
  {
   "cell_type": "code",
   "execution_count": 10,
   "metadata": {},
   "outputs": [
    {
     "data": {
      "text/plain": [
       "device(type='cuda')"
      ]
     },
     "execution_count": 10,
     "metadata": {},
     "output_type": "execute_result"
    }
   ],
   "source": [
    "device = torch.device(\"cuda\" if torch.cuda.is_available() else \"cpu\")\n",
    "device"
   ]
  },
  {
   "cell_type": "code",
   "execution_count": 11,
   "metadata": {},
   "outputs": [],
   "source": [
    "falls_train, falls_valid = train_test_split(X_falls, test_size=0.2)\n",
    "non_falls_train, non_falls_valid = train_test_split(X_non_falls, test_size=len(falls_valid))\n",
    "training_set = FallDataset(falls=falls_train, non_falls=non_falls_train, window_size=45)\n",
    "validation_set = FallDataset(falls=falls_valid, non_falls=non_falls_valid, window_size=45, valid=True)"
   ]
  },
  {
   "cell_type": "code",
   "execution_count": 12,
   "metadata": {},
   "outputs": [],
   "source": [
    "layer_config = [(64, 64, 1), (64, 64, 1), (64, 128, 2), (128, 128, 1),\n",
    "                (128, 128, 1), (128, 256, 2), (256, 256, 1)]\n",
    "default_layer_config = [(64, 64, 1), (64, 64, 1), (64, 64, 1), (64, 128, 2), (128, 128, 1),\n",
    "                        (128, 128, 1), (128, 256, 2), (256, 256, 1), (256, 256, 1)] # (in_channles, out_channels, temporal_stride)\n",
    "my_config = [(64, 64, 1), (64, 64, 1), (64, 128, 2), (128, 128, 1),\n",
    "                (128, 128, 1), (128, 256, 2), (256, 256, 1)]"
   ]
  },
  {
   "cell_type": "markdown",
   "metadata": {},
   "source": [
    "# Training loop"
   ]
  },
  {
   "cell_type": "code",
   "execution_count": 13,
   "metadata": {},
   "outputs": [
    {
     "name": "stderr",
     "output_type": "stream",
     "text": [
      "Training Loss: 0.3403: 100%|██████████| 35/35 [00:28<00:00,  1.22it/s]\n"
     ]
    },
    {
     "name": "stdout",
     "output_type": "stream",
     "text": [
      "Training loss: 0.34027776233652696\n",
      "Validation loss: 0.404166579246521\n",
      "Training accuracy: 0.9743315508021391\n",
      "Validation accuracy: 0.9090909090909091\n"
     ]
    },
    {
     "data": {
      "image/png": "[encoded data removed]",
      "text/plain": [
       "<Figure size 1000x400 with 2 Axes>"
      ]
     },
     "metadata": {},
     "output_type": "display_data"
    }
   ],
   "source": [
    "model = None\n",
    "model = stgcn(num_class=2, window_size=45, num_point=17, graph=A, layer_config=default_layer_config, learnable_mask=True)\n",
    "model.to(device)\n",
    "\n",
    "# Set up TensorBoard\n",
    "# writer = SummaryWriter()\n",
    "\n",
    "epochs = 35\n",
    "lr = 1e-3\n",
    "weight_decay = 0\n",
    "batch_size = 128\n",
    "loss_func = nn.CrossEntropyLoss()\n",
    "optimizer = torch.optim.Adam(model.parameters(), lr=lr, weight_decay=weight_decay)\n",
    "training_loader = torch.utils.data.DataLoader(training_set, batch_sampler=BalancedBatchSampler(training_set))\n",
    "validation_loader = torch.utils.data.DataLoader(validation_set, batch_size=128, shuffle=False)\n",
    "\n",
    "train_loss_list, train_acc_list = [], []\n",
    "val_loss_list, val_acc_list = [], []\n",
    "\n",
    "progress = tqdm(np.arange(epochs))\n",
    "for n in progress:\n",
    "    model.train()\n",
    "    running_loss = 0\n",
    "    running_acc = 0\n",
    "    count = 0\n",
    "    for X_batch, y_batch in training_loader:\n",
    "        X_batch = X_batch.to(device)\n",
    "        y_batch = y_batch.type(torch.LongTensor).to(device)\n",
    "\n",
    "        y_pred = model(X_batch)\n",
    "        batch_loss = loss_func(y_pred, y_batch)\n",
    "        running_loss += batch_loss.item() * X_batch.size(0)\n",
    "        running_acc += torch.sum(torch.argmax(y_pred, axis=-1) == y_batch).detach().cpu().item()\n",
    "\n",
    "        optimizer.zero_grad()\n",
    "        batch_loss.backward()\n",
    "        optimizer.step()\n",
    "        # for name, parameter in model.named_parameters():\n",
    "        #     if parameter.grad is not None:\n",
    "        #         writer.add_scalar(f'Gradient_norm/{name}', parameter.grad.norm(), n)\n",
    "        \n",
    "        count += X_batch.size(0)\n",
    "\n",
    "    train_loss = running_loss / count\n",
    "    train_acc = running_acc / count\n",
    "    train_loss_list.append(train_loss)\n",
    "    train_acc_list.append(train_acc)\n",
    "\n",
    "    val_loss, val_acc = evaluate(model, validation_loader)\n",
    "    val_loss_list.append(val_loss)\n",
    "    val_acc_list.append(val_acc)\n",
    "    \n",
    "    progress.set_description(f'Training Loss: {train_loss:.4f}')\n",
    "\n",
    "x_axis = np.arange(epochs)\n",
    "fig, axes = plt.subplots(1, 2, figsize=(10, 4))\n",
    "axes[0].plot(x_axis, train_loss_list, label=\"Training\")\n",
    "axes[0].plot(x_axis, val_loss_list, label=\"Validation\")\n",
    "axes[0].set_title(\"Loss\")\n",
    "axes[0].set_xlabel('Epoch')\n",
    "axes[0].legend()\n",
    "axes[1].plot(x_axis, train_acc_list, label='Training')\n",
    "axes[1].plot(x_axis, val_acc_list, label='Validation')\n",
    "axes[1].set_title(\"Accuracy\")\n",
    "axes[1].set_xlabel('Epoch')\n",
    "axes[1].legend()\n",
    "\n",
    "print(f\"Training loss: {train_loss_list[-1]}\")\n",
    "print(f\"Validation loss: {val_loss_list[-1]}\")\n",
    "print(f\"Training accuracy: {train_acc_list[-1]}\")\n",
    "print(f\"Validation accuracy: {val_acc_list[-1]}\")\n",
    "\n",
    "# writer.flush()\n",
    "# writer.close()"
   ]
  },
  {
   "cell_type": "code",
   "execution_count": 84,
   "metadata": {},
   "outputs": [
    {
     "data": {
      "image/png": "[encoded data removed]",
      "text/plain": [
       "<Figure size 1200x300 with 6 Axes>"
      ]
     },
     "metadata": {},
     "output_type": "display_data"
    }
   ],
   "source": [
    "def undo_symnorm(A_symnorm, A):\n",
    "    \"\"\"Undo symmetric normalization on an adjacency matrix\n",
    "\n",
    "    Args:\n",
    "        A_symnorm: symnormed adjacency matrix\n",
    "\n",
    "    Returns:\n",
    "        A: original adjacency matrix\n",
    "    \"\"\"\n",
    "    D = np.diag(np.sum(A, axis=0))\n",
    "    D_sqrt = np.sqrt(D)\n",
    "    return D_sqrt @ A_symnorm @ D_sqrt\n",
    "\n",
    "fig, ax = plt.subplots(1, 3, figsize=(12, 3))\n",
    "\n",
    "im = ax[0].imshow(A[0], cmap='hot', interpolation='nearest')\n",
    "fig.colorbar(im, ax=ax[0])\n",
    "im = ax[1].imshow((model.layers[0].sgcn.mask * model.layers[0].sgcn.A[0] + model.layers[0].sgcn.mask_bias)[0].cpu().detach().numpy(), cmap='hot', interpolation='nearest')\n",
    "fig.colorbar(im, ax=ax[1])\n",
    "im = ax[2].imshow((model.layers[-2].sgcn.mask * model.layers[-2].sgcn.A[0] + model.layers[-2].sgcn.mask_bias)[0].cpu().detach().numpy(), cmap='hot', interpolation='nearest')\n",
    "fig.colorbar(im, ax=ax[2])\n",
    "\n",
    "plt.show()"
   ]
  },
  {
   "cell_type": "code",
   "execution_count": null,
   "metadata": {},
   "outputs": [],
   "source": [
    "torch.save(model.state_dict(), 'le2i_96acc_default.pth')"
   ]
  },
  {
   "cell_type": "markdown",
   "metadata": {},
   "source": [
    "# Test on unseen data"
   ]
  },
  {
   "cell_type": "code",
   "execution_count": 17,
   "metadata": {},
   "outputs": [],
   "source": [
    "LEC_ROOM_DIR = \"D:\\ASH\\datasets\\Le2i-skeleton\\Lecture room\\Skeletons_full_trim\"\n",
    "OFFICE_DIR = \"D:\\ASH\\datasets\\Le2i-skeleton\\Office\\Skeletons_full\"\n",
    "\n",
    "lec_room = eval.load_data(LEC_ROOM_DIR)\n",
    "lec_room = [('lec_room ' + data[0], data[1], data[2]) for data in lec_room]\n",
    "    \n",
    "office = eval.load_data(OFFICE_DIR)\n",
    "office = [('office ' + data[0], data[1], data[2]) for data in office]"
   ]
  },
  {
   "cell_type": "code",
   "execution_count": 18,
   "metadata": {},
   "outputs": [],
   "source": [
    "unseen_test_data = lec_room + office\n",
    "unseen_test_labels = eval.LEC_ROOM_LABELS + eval.OFFICE_LABELS"
   ]
  },
  {
   "cell_type": "code",
   "execution_count": null,
   "metadata": {},
   "outputs": [],
   "source": [
    "KFoldCrossValidation(stgcn, 5, X_falls, X_non_falls, unseen_test_data, unseen_test_labels, 'adam', lr, batch_size, 50, weight_decay, False, shift_window_size=45, \n",
    "                     num_class=2, window_size=45, num_point=17, in_channels=2, graph=A, layer_config=default_layer_config, learnable_mask=True)"
   ]
  },
  {
   "cell_type": "code",
   "execution_count": null,
   "metadata": {},
   "outputs": [],
   "source": [
    "KFoldCrossValidation(stgcn, 5, X_falls, X_non_falls, unseen_test_data, unseen_test_labels, 'adam', lr, batch_size, 50, weight_decay, False, shift_window_size=None, \n",
    "                     num_class=2, window_size=45, num_point=17, in_channels=2, graph=A, layer_config=default_layer_config, learnable_mask=True)"
   ]
  },
  {
   "cell_type": "code",
   "execution_count": 14,
   "metadata": {},
   "outputs": [
    {
     "name": "stderr",
     "output_type": "stream",
     "text": [
      "100%|██████████| 20/20 [00:05<00:00,  3.80it/s]"
     ]
    },
    {
     "name": "stdout",
     "output_type": "stream",
     "text": [
      "True positives: ['coffee_room video (16)', 'coffee_room video (35)', 'coffee_room video (29)', 'coffee_room video (50)', 'coffee_room video (33)', 'coffee_room video (39)', 'coffee_room video (30)', 'coffee_room video (36)', 'coffee_room video (18)', 'coffee_room video (34)', 'home video (25)']\n",
      "True negatives: ['home video (51)', 'home video (42)', 'home video (48)', 'home video (55)']\n",
      "False positives: ['coffee_room video (69)', 'coffee_room video (65)']\n",
      "False negatives: ['coffee_room video (13)', 'coffee_room video (64)', 'home video (3)']\n",
      "0.75 0.6666666666666666 0.7857142857142857\n"
     ]
    },
    {
     "name": "stderr",
     "output_type": "stream",
     "text": [
      "\n"
     ]
    }
   ],
   "source": [
    "stride = 1\n",
    "accuracy, specificity, sensitivity, results = eval.evaluate(model, device, testset=([data[:3] for data in test_data], test_labels), profile=True, stride=stride)\n",
    "print(accuracy, specificity, sensitivity)"
   ]
  },
  {
   "cell_type": "code",
   "execution_count": 21,
   "metadata": {},
   "outputs": [
    {
     "data": {
      "text/plain": [
       "['lec_room video (1)',\n",
       " 'lec_room video (2)',\n",
       " 'lec_room video (3)',\n",
       " 'lec_room video (4)',\n",
       " 'lec_room video (5)',\n",
       " 'lec_room video (6)',\n",
       " 'lec_room video (7)',\n",
       " 'lec_room video (8)',\n",
       " 'lec_room video (9)',\n",
       " 'lec_room video (10)',\n",
       " 'lec_room video (11)',\n",
       " 'lec_room video (12)',\n",
       " 'lec_room video (13)',\n",
       " 'lec_room video (14)',\n",
       " 'lec_room video (15)',\n",
       " 'lec_room video (16) trim',\n",
       " 'lec_room video (17)',\n",
       " 'lec_room video (18)',\n",
       " 'lec_room video (19)',\n",
       " 'lec_room video (20)',\n",
       " 'lec_room video (21) trim',\n",
       " 'lec_room video (22) trim',\n",
       " 'lec_room video (23)',\n",
       " 'lec_room video (24)',\n",
       " 'lec_room video (25) trim',\n",
       " 'lec_room video (26)',\n",
       " 'lec_room video (27) trim',\n",
       " 'office video (1)',\n",
       " 'office video (2)',\n",
       " 'office video (3)',\n",
       " 'office video (4)',\n",
       " 'office video (5)',\n",
       " 'office video (6)',\n",
       " 'office video (7)',\n",
       " 'office video (8)',\n",
       " 'office video (9)',\n",
       " 'office video (10)',\n",
       " 'office video (11)',\n",
       " 'office video (12)',\n",
       " 'office video (13)',\n",
       " 'office video (14)',\n",
       " 'office video (15)',\n",
       " 'office video (16)',\n",
       " 'office video (17)',\n",
       " 'office video (18)',\n",
       " 'office video (19)',\n",
       " 'office video (20)',\n",
       " 'office video (21)',\n",
       " 'office video (22)',\n",
       " 'office video (23)',\n",
       " 'office video (24)',\n",
       " 'office video (25)',\n",
       " 'office video (26)',\n",
       " 'office video (27)',\n",
       " 'office video (28)',\n",
       " 'office video (29)',\n",
       " 'office video (30)',\n",
       " 'office video (31)',\n",
       " 'office video (32)',\n",
       " 'office video (33)']"
      ]
     },
     "execution_count": 21,
     "metadata": {},
     "output_type": "execute_result"
    }
   ],
   "source": [
    "[data[0] for data in unseen_test_data]"
   ]
  },
  {
   "cell_type": "code",
   "execution_count": 123,
   "metadata": {},
   "outputs": [],
   "source": [
    "sample = unseen_test_data[21]\n",
    "\n",
    "batch = eval.create_batch(sample[1])"
   ]
  },
  {
   "cell_type": "code",
   "execution_count": null,
   "metadata": {},
   "outputs": [],
   "source": [
    "start_frame = 140\n",
    "joints = np.transpose(batch[start_frame], (1, 2, 0))\n",
    "\n",
    "# Create a figure and axis\n",
    "fig, ax = plt.subplots()\n",
    "scatter = ax.scatter([], [])\n",
    "lines = LineCollection([], color='red')\n",
    "ax.add_collection(lines)\n",
    "ax.set_title('{} frames'.format(len(joints)))\n",
    "\n",
    "# Set axis limits\n",
    "ax.set_xlim(0, 1)\n",
    "ax.set_ylim(0, 1)\n",
    "ax.invert_yaxis()  # Invert y-axis\n",
    "\n",
    "# Update function for animation\n",
    "def update(frame):\n",
    "    scatter.set_offsets(joints[frame])\n",
    "    segments = []\n",
    "    for joint1, joint2 in edges:\n",
    "        x_values = [joints[frame][joint1][0], joints[frame][joint2][0]]\n",
    "        y_values = [joints[frame][joint1][1], joints[frame][joint2][1]]\n",
    "        segments.append([(x_values[0], y_values[0]), (x_values[1], y_values[1])])\n",
    "    lines.set_segments(segments)\n",
    "    return scatter, lines\n",
    "\n",
    "# Create animation\n",
    "ani = FuncAnimation(fig, update, frames=len(joints), blit=True)\n",
    "\n",
    "# Save animation as GIF\n",
    "ani.save(f'fall_frame_{start_frame}.gif', fps=25)\n"
   ]
  },
  {
   "cell_type": "markdown",
   "metadata": {},
   "source": [
    "# Visualization"
   ]
  },
  {
   "cell_type": "code",
   "execution_count": 23,
   "metadata": {},
   "outputs": [],
   "source": [
    "import time"
   ]
  },
  {
   "cell_type": "code",
   "execution_count": 31,
   "metadata": {},
   "outputs": [
    {
     "name": "stdout",
     "output_type": "stream",
     "text": [
      "office video (32)\n",
      "Inference time on 401 sub-sequences: 0.40932440757751465. The average time: 0.0010207591211409343\n"
     ]
    }
   ],
   "source": [
    "filename, skeletons, frame_ids = unseen_test_data[-2]\n",
    "print(filename)\n",
    "start_time = time.time()\n",
    "batch = eval.create_batch(skeletons)\n",
    "model.eval()\n",
    "with torch.no_grad():\n",
    "    batch_tensor = torch.tensor(batch).to(device)\n",
    "    pred = model(batch_tensor).cpu()\n",
    "results = torch.argmax(pred, axis=-1).numpy()\n",
    "runtime = time.time() - start_time\n",
    "print(f\"Inference time on {len(batch)} sub-sequences: {runtime}. The average time: {runtime / len(results)}\")"
   ]
  },
  {
   "cell_type": "code",
   "execution_count": 32,
   "metadata": {},
   "outputs": [],
   "source": [
    "# This is an example, replace it with your video path\n",
    "video_path = \"D:\\ASH\\datasets\\Le2i\\Office\\Videos\\\\video (32).avi\"\n",
    "cap = cv2.VideoCapture(video_path)\n",
    "\n",
    "output_video_path = 'output_video.avi'  # Path to save the output video\n",
    "frame_width = 320  # Width of the frames in the video\n",
    "frame_height = 240  # Height of the frames in the video\n",
    "fps = 25  # Frames per second\n",
    "fourcc = cv2.VideoWriter_fourcc(*'XVID')  # Specify the codec\n",
    "out = cv2.VideoWriter(output_video_path, fourcc, fps, (frame_width, frame_height))\n",
    "\n",
    "frame_ptr = 0\n",
    "curr_frame = 0\n",
    "while cap.isOpened():\n",
    "    ret, frame = cap.read()\n",
    "    if not ret:\n",
    "        break\n",
    "    \n",
    "    position = (10, 10)  # Coordinates of the upper left corner\n",
    "    font = cv2.FONT_HERSHEY_SIMPLEX\n",
    "    font_scale = 0.5\n",
    "    font_color = (255, 255, 255)\n",
    "    text = \"N/A\"\n",
    "    \n",
    "    if frame_ptr < len(frame_ids) and frame_ids[frame_ptr] == curr_frame:\n",
    "        pred_idx = frame_ptr - 45 + 1\n",
    "        if pred_idx >= 0 and pred_idx < len(results):\n",
    "            pred = results[pred_idx]\n",
    "            if pred == 1:\n",
    "                text = \"Fall\"\n",
    "                font_color = (0, 0, 255)\n",
    "            else:\n",
    "                text = \"No fall\"\n",
    "                font_color = (0, 255, 0)\n",
    "            \n",
    "        # Example joint coordinates for one person in the frame\n",
    "        # Replace this with your actual detection data\n",
    "        # Format: [x, y, confidence]\n",
    "        joints = skeletons[frame_ptr]\n",
    "        \n",
    "        # Draw joints\n",
    "        for joint in joints:\n",
    "            # Convert coordinates to integers\n",
    "            x, y = int(joint[0]), int(joint[1])\n",
    "            cv2.circle(frame, (x, y), 4, (0, 0, 255), -1)\n",
    "        \n",
    "        # Draw skeleton\n",
    "        for bone in edges:\n",
    "            # Convert coordinates to integers\n",
    "            start_point, end_point = joints[bone[0]], joints[bone[1]]\n",
    "            start_point = (int(start_point[0]), int(start_point[1]))\n",
    "            end_point = (int(end_point[0]), int(end_point[1]))\n",
    "            cv2.line(frame, start_point, end_point, (255, 0, 0), 2)\n",
    "        \n",
    "        frame_ptr += 1\n",
    "    \n",
    "    cv2.putText(frame, text, position, font, font_scale, font_color, thickness=2)\n",
    "\n",
    "    # Display the frame with drawn joints and connections\n",
    "    cv2.imshow('Frame', frame)\n",
    "    out.write(frame)\n",
    "    \n",
    "    # if frame_ptr >= len(results): break \n",
    "    \n",
    "    if cv2.waitKey(25) & 0xFF == ord('q'):\n",
    "        break\n",
    "\n",
    "    \n",
    "    curr_frame += 1\n",
    "\n",
    "# Release everything if job is finished\n",
    "out.release()\n",
    "cap.release()\n",
    "cv2.destroyAllWindows()"
   ]
  },
  {
   "cell_type": "code",
   "execution_count": null,
   "metadata": {},
   "outputs": [],
   "source": []
  }
 ],
 "metadata": {
  "kernelspec": {
   "display_name": "research_py396",
   "language": "python",
   "name": "python3"
  },
  "language_info": {
   "codemirror_mode": {
    "name": "ipython",
    "version": 3
   },
   "file_extension": ".py",
   "mimetype": "text/x-python",
   "name": "python",
   "nbconvert_exporter": "python",
   "pygments_lexer": "ipython3",
   "version": "3.9.6"
  }
 },
 "nbformat": 4,
 "nbformat_minor": 2
}
