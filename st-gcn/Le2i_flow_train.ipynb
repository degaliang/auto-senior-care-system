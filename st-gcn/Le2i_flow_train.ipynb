{
 "cells": [
  {
   "cell_type": "code",
   "execution_count": 1,
   "metadata": {},
   "outputs": [],
   "source": [
    "import cv2\n",
    "import torch\n",
    "import torch.nn as nn\n",
    "import numpy as np\n",
    "import matplotlib.pyplot as plt\n",
    "\n",
    "from model.stgcn import flow_stgcn\n",
    "from model.st_graph import get_distance_adjacency\n",
    "from torchsummary import summary\n",
    "from torch.utils.data import Dataset, DataLoader, Sampler\n",
    "from sklearn.model_selection import train_test_split\n",
    "from tqdm import tqdm"
   ]
  },
  {
   "cell_type": "code",
   "execution_count": 2,
   "metadata": {},
   "outputs": [],
   "source": [
    "edges = [\n",
    "    [0, 1],  # Nose - Left Eye\n",
    "    [0, 2],  # Nose - Right Eye\n",
    "    [1, 3],  # Left Eye - Left Ear\n",
    "    [2, 4],  # Right Eye - Right Ear\n",
    "    [1, 5],  # Left Eye - Left Shoulder\n",
    "    [2, 6],  # Right Eye - Right Shoulder\n",
    "    [5, 7],  # Left Shoulder - Left Elbow\n",
    "    [6, 8],  # Right Shoulder - Right Elbow\n",
    "    [7, 9],  # Left Elbow - Left Wrist\n",
    "    [8, 10],  # Right Elbow - Right Wrist\n",
    "    [5, 11],  # Left Shoulder - Left Hip\n",
    "    [6, 12],  # Right Shoulder - Right Hip\n",
    "    [11, 13],  # Left Hip - Left Knee\n",
    "    [12, 14],  # Right Hip - Right Knee\n",
    "    [13, 15],  # Left Knee - Left Ankle\n",
    "    [14, 16]   # Right Knee - Right Ankle\n",
    "]"
   ]
  },
  {
   "cell_type": "markdown",
   "metadata": {},
   "source": [
    "# Load the Le2i Coffe Room and Home"
   ]
  },
  {
   "cell_type": "code",
   "execution_count": 3,
   "metadata": {},
   "outputs": [],
   "source": [
    "# dict_keys(['filename', 'keypoints', 'scores', 'boxes', 'label'])\n",
    "coffee_falls = np.load('D:\\ASH\\datasets\\Le2i\\Coffee_room_all\\Skeletons_split_flow\\\\falls.npy', allow_pickle=True)\n",
    "coffee_non_falls = np.load('D:\\ASH\\datasets\\Le2i\\Coffee_room_all\\Skeletons_split_flow\\\\non_falls.npy', allow_pickle=True)\n",
    "home_falls = np.load('D:\\ASH\\datasets\\Le2i\\Home_all\\Skeletons_split_flow\\\\falls.npy', allow_pickle=True)\n",
    "home_non_falls = np.load('D:\\ASH\\datasets\\Le2i\\Home_all\\Skeletons_split_flow\\\\non_falls.npy', allow_pickle=True)"
   ]
  },
  {
   "cell_type": "code",
   "execution_count": 4,
   "metadata": {},
   "outputs": [
    {
     "data": {
      "text/plain": [
       "dict_keys(['filename', 'keypoints', 'scores', 'boxes', 'label', 'start_frame', 'flows'])"
      ]
     },
     "execution_count": 4,
     "metadata": {},
     "output_type": "execute_result"
    }
   ],
   "source": [
    "coffee_falls[0].keys()"
   ]
  },
  {
   "cell_type": "code",
   "execution_count": 5,
   "metadata": {},
   "outputs": [
    {
     "name": "stdout",
     "output_type": "stream",
     "text": [
      "(93, 45, 17, 2) (849, 45, 17, 2) (93, 45, 64) (849, 45, 64)\n"
     ]
    }
   ],
   "source": [
    "falls = np.concatenate((coffee_falls, home_falls), axis=0)\n",
    "X_falls_flow = np.array([entry['flows'] for entry in falls])\n",
    "falls = np.array([entry['keypoints'] for entry in falls])\n",
    "\n",
    "non_falls = np.concatenate((coffee_non_falls, home_non_falls), axis=0)\n",
    "X_non_falls_flow = np.array([entry['flows'] for entry in non_falls])\n",
    "non_falls = np.array([entry['keypoints'] for entry in non_falls])\n",
    "\n",
    "X_falls = falls[:, :, :, :2].astype(np.float32) # remove the scores only keep the coordinates\n",
    "X_non_falls = non_falls[:, :, :, :2].astype(np.float32) # remove the scores only keep the coordinates\n",
    "\n",
    "print(X_falls.shape, X_non_falls.shape, X_falls_flow.shape, X_non_falls_flow.shape)"
   ]
  },
  {
   "cell_type": "code",
   "execution_count": 6,
   "metadata": {},
   "outputs": [
    {
     "name": "stdout",
     "output_type": "stream",
     "text": [
      "(93, 2, 45, 17) (849, 2, 45, 17) (93, 64, 45) (849, 64, 45)\n"
     ]
    }
   ],
   "source": [
    "# normalize the data using the max values in the dataset\n",
    "# the original coordinates is stored as (x, y)\n",
    "# Le2i resolution is 320x240\n",
    "\n",
    "max_x = 320\n",
    "max_y = 240\n",
    "\n",
    "X_falls[:, :, :, 0] /= max_x\n",
    "X_falls[:, :, :, 1] /= max_y\n",
    "X_non_falls[:, :, :, 0] /= max_x\n",
    "X_non_falls[:, :, :, 1] /= max_y\n",
    "X_falls = np.transpose(X_falls, (0, 3, 1, 2))\n",
    "X_non_falls = np.transpose(X_non_falls, (0, 3, 1, 2))\n",
    "X_falls_flow = np.transpose(X_falls_flow, (0, 2, 1))\n",
    "X_non_falls_flow = np.transpose(X_non_falls_flow, (0, 2, 1))\n",
    "print(X_falls.shape, X_non_falls.shape, X_falls_flow.shape, X_non_falls_flow.shape)"
   ]
  },
  {
   "cell_type": "markdown",
   "metadata": {},
   "source": [
    "# Initialize the model and dataset object"
   ]
  },
  {
   "cell_type": "code",
   "execution_count": 7,
   "metadata": {},
   "outputs": [],
   "source": [
    "num_node = 17\n",
    "A = get_distance_adjacency(np.array(edges), num_node)"
   ]
  },
  {
   "cell_type": "code",
   "execution_count": 8,
   "metadata": {},
   "outputs": [
    {
     "data": {
      "text/plain": [
       "device(type='cuda')"
      ]
     },
     "execution_count": 8,
     "metadata": {},
     "output_type": "execute_result"
    }
   ],
   "source": [
    "device = torch.device(\"cuda\" if torch.cuda.is_available() else \"cpu\")\n",
    "device"
   ]
  },
  {
   "cell_type": "code",
   "execution_count": 9,
   "metadata": {},
   "outputs": [],
   "source": [
    "class FlowFallDataset(Dataset):\n",
    "    def __init__(self, falls, non_falls, falls_flow, non_falls_flow):\n",
    "        self.falls = falls\n",
    "        self.non_falls = non_falls\n",
    "        self.falls_flow = falls_flow\n",
    "        self.non_falls_flow = non_falls_flow\n",
    "\n",
    "    def __len__(self):\n",
    "        # The dataset length is twice the length of the smaller list\n",
    "        return len(self.falls) + len(self.non_falls)\n",
    "\n",
    "    def __getitem__(self, idx):\n",
    "        if idx < len(self.falls):\n",
    "            return self.falls[idx], self.falls_flow[idx], 1.0\n",
    "        else:\n",
    "            return self.non_falls[idx - len(self.falls)], self.non_falls_flow[idx - len(self.falls)], 0.0\n",
    "\n",
    "class BalancedBatchSampler(Sampler):\n",
    "    def __init__(self, dataset):\n",
    "        self.num_falls = len(dataset.falls)\n",
    "        self.num_non_falls = len(dataset.non_falls)\n",
    "        self.data_size = self.num_falls + self.num_non_falls\n",
    "        self.batch_size = 2 * self.num_falls\n",
    "\n",
    "    def __iter__(self):\n",
    "        # Create an array of indices representing balanced classes\n",
    "        non_fall_indices = np.arange(self.num_non_falls)\n",
    "        np.random.shuffle(non_fall_indices)  # Shuffle the indices to have random batches\n",
    "        batch = np.arange(self.num_falls).tolist()\n",
    "        for idx in non_fall_indices:\n",
    "            batch.append(idx)\n",
    "            if len(batch) == self.batch_size:\n",
    "                yield batch\n",
    "                batch = np.arange(self.num_falls).tolist()\n",
    "        if len(batch) > 0:  # Yield remaining items not fitting into a full batch\n",
    "            yield batch\n",
    "\n",
    "    def __len__(self):\n",
    "        return (self.data_size + self.batch_size - 1) // self.batch_size\n",
    "\n",
    "def evaluate(model, loader, print_acc=False):\n",
    "    model.eval()\n",
    "    loss_func = nn.CrossEntropyLoss()\n",
    "    acc, loss = 0.0, 0.0\n",
    "    for X_batch, flow_batch, y_batch in loader:\n",
    "        X_batch = X_batch.to(device)\n",
    "        flow_batch = flow_batch.to(device)\n",
    "        y_batch = y_batch.type(torch.LongTensor).to(device)\n",
    "        with torch.no_grad():\n",
    "            y_pred = model(X_batch, flow_batch)\n",
    "            loss += loss_func(y_pred, y_batch).detach().cpu().item()\n",
    "            acc += torch.sum(torch.argmax(y_pred, axis=-1) == y_batch).detach().cpu().item()\n",
    "            \n",
    "    loss /= len(loader.dataset)\n",
    "    acc /= len(loader.dataset)\n",
    "    return loss, acc"
   ]
  },
  {
   "cell_type": "code",
   "execution_count": 10,
   "metadata": {},
   "outputs": [],
   "source": [
    "falls_train, falls_valid = train_test_split(X_falls, test_size=0.2, random_state=217)\n",
    "falls_flow_train, falls_flow_valid = train_test_split(X_falls_flow, test_size=0.2, random_state=217)\n",
    "non_falls_train, non_falls_valid = train_test_split(X_non_falls, test_size=len(falls_valid), random_state=217)\n",
    "non_falls_flow_train, non_falls_flow_valid = train_test_split(X_non_falls_flow, test_size=len(falls_valid), random_state=217)\n",
    "training_set = FlowFallDataset(falls=falls_train, non_falls=non_falls_train, falls_flow=falls_flow_train, non_falls_flow=non_falls_flow_train)\n",
    "validation_set = FlowFallDataset(falls=falls_valid, non_falls=non_falls_valid, falls_flow=falls_flow_valid, non_falls_flow=non_falls_flow_valid)"
   ]
  },
  {
   "cell_type": "code",
   "execution_count": 11,
   "metadata": {},
   "outputs": [],
   "source": [
    "training_loader = torch.utils.data.DataLoader(training_set, batch_sampler=BalancedBatchSampler(training_set))\n",
    "train_eval_loader = torch.utils.data.DataLoader(training_set, batch_size=100, shuffle=False)\n",
    "validation_loader = torch.utils.data.DataLoader(validation_set, batch_size=100, shuffle=False)"
   ]
  },
  {
   "cell_type": "code",
   "execution_count": 12,
   "metadata": {},
   "outputs": [],
   "source": [
    "skeleton, flow, label = next(iter(training_loader))"
   ]
  },
  {
   "cell_type": "code",
   "execution_count": 15,
   "metadata": {},
   "outputs": [
    {
     "data": {
      "text/plain": [
       "flow_stgcn(\n",
       "  (flows_bn): BatchNorm1d(64, eps=1e-05, momentum=0.1, affine=True, track_running_stats=True)\n",
       "  (stgcn_in): Sequential(\n",
       "    (0): unit_sgcn(\n",
       "      (conv_nets): ModuleList(\n",
       "        (0-1): 2 x Conv2d(2, 64, kernel_size=(1, 1), stride=(1, 1))\n",
       "      )\n",
       "      (bn): BatchNorm2d(64, eps=1e-05, momentum=0.1, affine=True, track_running_stats=True)\n",
       "      (non_linearity): ReLU()\n",
       "    )\n",
       "    (1): unit_tgcn(\n",
       "      (conv_net): Conv2d(64, 64, kernel_size=(9, 1), stride=(1, 1), padding=(4, 0))\n",
       "      (bn): BatchNorm2d(64, eps=1e-05, momentum=0.1, affine=True, track_running_stats=True)\n",
       "      (non_linearity): ReLU()\n",
       "    )\n",
       "  )\n",
       "  (layers): ModuleList(\n",
       "    (0-2): 3 x stgcn_unit(\n",
       "      (sgcn): unit_sgcn(\n",
       "        (conv_nets): ModuleList(\n",
       "          (0-2): 3 x Conv2d(64, 64, kernel_size=(1, 1), stride=(1, 1))\n",
       "        )\n",
       "        (bn): BatchNorm2d(64, eps=1e-05, momentum=0.1, affine=True, track_running_stats=True)\n",
       "        (non_linearity): ReLU()\n",
       "      )\n",
       "      (tgcn): unit_tgcn(\n",
       "        (conv_net): Conv2d(64, 64, kernel_size=(9, 1), stride=(1, 1), padding=(4, 0))\n",
       "        (bn): BatchNorm2d(64, eps=1e-05, momentum=0.1, affine=True, track_running_stats=True)\n",
       "        (non_linearity): ReLU()\n",
       "      )\n",
       "      (dropout): Dropout(p=0.5, inplace=False)\n",
       "    )\n",
       "    (3): stgcn_unit(\n",
       "      (sgcn): unit_sgcn(\n",
       "        (conv_nets): ModuleList(\n",
       "          (0-2): 3 x Conv2d(64, 128, kernel_size=(1, 1), stride=(1, 1))\n",
       "        )\n",
       "        (bn): BatchNorm2d(128, eps=1e-05, momentum=0.1, affine=True, track_running_stats=True)\n",
       "        (non_linearity): ReLU()\n",
       "      )\n",
       "      (tgcn): unit_tgcn(\n",
       "        (conv_net): Conv2d(128, 128, kernel_size=(9, 1), stride=(2, 1), padding=(4, 0))\n",
       "        (bn): BatchNorm2d(128, eps=1e-05, momentum=0.1, affine=True, track_running_stats=True)\n",
       "        (non_linearity): ReLU()\n",
       "      )\n",
       "      (dropout): Dropout(p=0.5, inplace=False)\n",
       "      (transform): Sequential(\n",
       "        (0): Conv2d(64, 128, kernel_size=(1, 1), stride=(2, 1))\n",
       "        (1): BatchNorm2d(128, eps=1e-05, momentum=0.1, affine=True, track_running_stats=True)\n",
       "      )\n",
       "    )\n",
       "    (4-5): 2 x stgcn_unit(\n",
       "      (sgcn): unit_sgcn(\n",
       "        (conv_nets): ModuleList(\n",
       "          (0-2): 3 x Conv2d(128, 128, kernel_size=(1, 1), stride=(1, 1))\n",
       "        )\n",
       "        (bn): BatchNorm2d(128, eps=1e-05, momentum=0.1, affine=True, track_running_stats=True)\n",
       "        (non_linearity): ReLU()\n",
       "      )\n",
       "      (tgcn): unit_tgcn(\n",
       "        (conv_net): Conv2d(128, 128, kernel_size=(9, 1), stride=(1, 1), padding=(4, 0))\n",
       "        (bn): BatchNorm2d(128, eps=1e-05, momentum=0.1, affine=True, track_running_stats=True)\n",
       "        (non_linearity): ReLU()\n",
       "      )\n",
       "      (dropout): Dropout(p=0.5, inplace=False)\n",
       "    )\n",
       "    (6): stgcn_unit(\n",
       "      (sgcn): unit_sgcn(\n",
       "        (conv_nets): ModuleList(\n",
       "          (0-2): 3 x Conv2d(128, 256, kernel_size=(1, 1), stride=(1, 1))\n",
       "        )\n",
       "        (bn): BatchNorm2d(256, eps=1e-05, momentum=0.1, affine=True, track_running_stats=True)\n",
       "        (non_linearity): ReLU()\n",
       "      )\n",
       "      (tgcn): unit_tgcn(\n",
       "        (conv_net): Conv2d(256, 256, kernel_size=(9, 1), stride=(2, 1), padding=(4, 0))\n",
       "        (bn): BatchNorm2d(256, eps=1e-05, momentum=0.1, affine=True, track_running_stats=True)\n",
       "        (non_linearity): ReLU()\n",
       "      )\n",
       "      (dropout): Dropout(p=0.5, inplace=False)\n",
       "      (transform): Sequential(\n",
       "        (0): Conv2d(128, 256, kernel_size=(1, 1), stride=(2, 1))\n",
       "        (1): BatchNorm2d(256, eps=1e-05, momentum=0.1, affine=True, track_running_stats=True)\n",
       "      )\n",
       "    )\n",
       "    (7-8): 2 x stgcn_unit(\n",
       "      (sgcn): unit_sgcn(\n",
       "        (conv_nets): ModuleList(\n",
       "          (0-2): 3 x Conv2d(256, 256, kernel_size=(1, 1), stride=(1, 1))\n",
       "        )\n",
       "        (bn): BatchNorm2d(256, eps=1e-05, momentum=0.1, affine=True, track_running_stats=True)\n",
       "        (non_linearity): ReLU()\n",
       "      )\n",
       "      (tgcn): unit_tgcn(\n",
       "        (conv_net): Conv2d(256, 256, kernel_size=(9, 1), stride=(1, 1), padding=(4, 0))\n",
       "        (bn): BatchNorm2d(256, eps=1e-05, momentum=0.1, affine=True, track_running_stats=True)\n",
       "        (non_linearity): ReLU()\n",
       "      )\n",
       "      (dropout): Dropout(p=0.5, inplace=False)\n",
       "    )\n",
       "  )\n",
       "  (fcn): Conv1d(256, 2, kernel_size=(1,), stride=(1,))\n",
       ")"
      ]
     },
     "execution_count": 15,
     "metadata": {},
     "output_type": "execute_result"
    }
   ],
   "source": [
    "layer_config = [(64, 64, 1), (64, 64, 1), (64, 128, 2), (128, 128, 1),\n",
    "                (128, 128, 1), (128, 256, 2), (256, 256, 1)]\n",
    "default_layer_config = [(64, 64, 1), (64, 64, 1), (64, 64, 1), (64, 128, 2), (128, 128, 1),\n",
    "                        (128, 128, 1), (128, 256, 2), (256, 256, 1), (256, 256, 1)] # (in_channles, out_channels, temporal_stride)\n",
    "model = None\n",
    "model = flow_stgcn(num_class=2, window_size=45, num_point=17, graph=A, layer_config=default_layer_config, learnable_mask=True, flow_norm=True)\n",
    "model.to(device)"
   ]
  },
  {
   "cell_type": "markdown",
   "metadata": {},
   "source": [
    "# Training loop"
   ]
  },
  {
   "cell_type": "code",
   "execution_count": 16,
   "metadata": {},
   "outputs": [
    {
     "name": "stderr",
     "output_type": "stream",
     "text": [
      "Training Loss: 0.0040: 100%|██████████| 35/35 [01:41<00:00,  2.89s/it]\n"
     ]
    },
    {
     "name": "stdout",
     "output_type": "stream",
     "text": [
      "Training loss: 0.003975613487769017\n",
      "Validation loss: 0.008908201989374663\n",
      "Training accuracy: 0.9767699115044248\n",
      "Validation accuracy: 0.9736842105263158\n"
     ]
    },
    {
     "data": {
      "image/png": "[encoded data removed]",
      "text/plain": [
       "<Figure size 1000x400 with 2 Axes>"
      ]
     },
     "metadata": {},
     "output_type": "display_data"
    }
   ],
   "source": [
    "epochs = 35\n",
    "lr = 0.0015\n",
    "weight_decay = 0\n",
    "batch_size = 100\n",
    "loss_func = nn.CrossEntropyLoss()\n",
    "optimizer = torch.optim.Adam(model.parameters(), lr=lr, weight_decay=weight_decay)\n",
    "# optimizer = torch.optim.SGD(model.parameters(), lr=lr, weight_decay=weight_decay, momentum=0)\n",
    "# scheduler = torch.optim.lr_scheduler.StepLR(optimizer, step_size=10, gamma=0.9)\n",
    "training_loader = torch.utils.data.DataLoader(training_set, batch_sampler=BalancedBatchSampler(training_set))\n",
    "train_eval_loader = torch.utils.data.DataLoader(training_set, batch_size=100, shuffle=False)\n",
    "validation_loader = torch.utils.data.DataLoader(validation_set, batch_size=100, shuffle=False)\n",
    "\n",
    "train_loss_list, train_acc_list = [], []\n",
    "val_loss_list, val_acc_list = [], []\n",
    "\n",
    "progress = tqdm(np.arange(epochs))\n",
    "for n in progress:\n",
    "    model.train()\n",
    "    for X_batch, flow_batch, y_batch in training_loader:\n",
    "        X_batch = X_batch.to(device)\n",
    "        flow_batch = flow_batch.to(device)\n",
    "        y_batch = y_batch.type(torch.LongTensor).to(device)\n",
    "\n",
    "        y_pred = model(X_batch, flow_batch)\n",
    "        batch_loss = loss_func(y_pred, y_batch)\n",
    "\n",
    "        optimizer.zero_grad()\n",
    "        batch_loss.backward()\n",
    "        optimizer.step()\n",
    "    \n",
    "    # scheduler.step()\n",
    "\n",
    "    train_loss, train_acc = evaluate(model, train_eval_loader)\n",
    "    train_loss_list.append(train_loss)\n",
    "    train_acc_list.append(train_acc)\n",
    "\n",
    "    val_loss, val_acc = evaluate(model, validation_loader)\n",
    "    val_loss_list.append(val_loss)\n",
    "    val_acc_list.append(val_acc)\n",
    "    \n",
    "    progress.set_description(f'Training Loss: {train_loss:.4f}')\n",
    "\n",
    "x_axis = np.arange(epochs)\n",
    "fig, axes = plt.subplots(1, 2, figsize=(10, 4))\n",
    "axes[0].plot(x_axis, train_loss_list, label=\"Training\")\n",
    "axes[0].plot(x_axis, val_loss_list, label=\"Validation\")\n",
    "axes[0].set_title(\"Loss\")\n",
    "axes[0].set_xlabel('Epoch')\n",
    "axes[0].legend()\n",
    "axes[1].plot(x_axis, train_acc_list, label='Training')\n",
    "axes[1].plot(x_axis, val_acc_list, label='Validation')\n",
    "axes[1].set_title(\"Accuracy\")\n",
    "axes[1].set_xlabel('Epoch')\n",
    "axes[1].legend()\n",
    "\n",
    "print(f\"Training loss: {train_loss_list[-1]}\")\n",
    "print(f\"Validation loss: {val_loss_list[-1]}\")\n",
    "print(f\"Training accuracy: {train_acc_list[-1]}\")\n",
    "print(f\"Validation accuracy: {val_acc_list[-1]}\")"
   ]
  },
  {
   "cell_type": "code",
   "execution_count": 17,
   "metadata": {},
   "outputs": [],
   "source": [
    "torch.save(model.state_dict(), '.\\model_weights\\le2i_flow_97acc.pth')"
   ]
  },
  {
   "cell_type": "code",
   "execution_count": null,
   "metadata": {},
   "outputs": [],
   "source": []
  }
 ],
 "metadata": {
  "kernelspec": {
   "display_name": "research_py396",
   "language": "python",
   "name": "python3"
  },
  "language_info": {
   "codemirror_mode": {
    "name": "ipython",
    "version": 3
   },
   "file_extension": ".py",
   "mimetype": "text/x-python",
   "name": "python",
   "nbconvert_exporter": "python",
   "pygments_lexer": "ipython3",
   "version": "3.9.6"
  }
 },
 "nbformat": 4,
 "nbformat_minor": 2
}
